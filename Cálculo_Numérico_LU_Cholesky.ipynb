{
  "nbformat": 4,
  "nbformat_minor": 0,
  "metadata": {
    "colab": {
      "provenance": [],
      "authorship_tag": "ABX9TyO6TI/dOQ/QIvG3qonGT0jm",
      "include_colab_link": true
    },
    "kernelspec": {
      "name": "python3",
      "display_name": "Python 3"
    },
    "language_info": {
      "name": "python"
    }
  },
  "cells": [
    {
      "cell_type": "markdown",
      "metadata": {
        "id": "view-in-github",
        "colab_type": "text"
      },
      "source": [
        "<a href=\"https://colab.research.google.com/github/emanuel379/Calculo-Numerico/blob/main/C%C3%A1lculo_Num%C3%A9rico_LU_Cholesky.ipynb\" target=\"_parent\"><img src=\"https://colab.research.google.com/assets/colab-badge.svg\" alt=\"Open In Colab\"/></a>"
      ]
    },
    {
      "cell_type": "markdown",
      "source": [
        "# Resolução de Sistemas Triangulares"
      ],
      "metadata": {
        "id": "djAGKdI5T7gg"
      }
    },
    {
      "cell_type": "markdown",
      "source": [
        "1) Calcular a solução de um sistema triangular(inferior e superior)."
      ],
      "metadata": {
        "id": "kq052MifdwZr"
      }
    },
    {
      "cell_type": "code",
      "execution_count": null,
      "metadata": {
        "colab": {
          "base_uri": "https://localhost:8080/"
        },
        "id": "PjIiYQ_iOFng",
        "outputId": "8af69cc4-0e22-48d8-84ea-ecf4ca36ab95"
      },
      "outputs": [
        {
          "output_type": "execute_result",
          "data": {
            "text/plain": [
              "[0.3333333333333333, 3.0, -3.333333333333333]"
            ]
          },
          "metadata": {},
          "execution_count": 22
        }
      ],
      "source": [
        "# Matriz triangular inferior\n",
        "\n",
        "def TriangularInf(A, b):\n",
        "  n = len(b)\n",
        "  x = [0]*n # Matriz nula com comprimento n\n",
        "  x[0] = b[0]/A[0][0]\n",
        "\n",
        "  for i in list(range(1, n, 1)):\n",
        "    s = 0\n",
        "    for j in list(range(0, i, 1)):\n",
        "      s = s + A[i][j]*x[j]\n",
        "\n",
        "    x[i] = (b[i] - s)/(A[i][i])\n",
        "\n",
        "  return x\n",
        "\n",
        "# Dados\n",
        "import numpy as np\n",
        "A = np.array([[3, 2, 4],[0,(1/3), (2/3)],[0, 0, 1]]) # Matriz trianguar superior\n",
        "\n",
        "A = A.T # Transposta da matriz triangular superior(triangular inferior)\n",
        "b = [1, (5/3), 0]\n",
        "x = TriangularInf(A, b)\n",
        "x"
      ]
    },
    {
      "cell_type": "code",
      "source": [
        "# Matriz triangular superior\n",
        "\n",
        "def TriangularSup(A, b):\n",
        "  n = len(b)\n",
        "  x = [0]*n\n",
        "  x[n-1] = b[n-1]/A[n-1][n-1]\n",
        "\n",
        "  for i in list(range(n - 1, 0, -1)):\n",
        "    s = 0\n",
        "    for j in list(range(i+1, n+1, 1)):\n",
        "      s = s + A[i-1][j-1]*x[j-1]\n",
        "\n",
        "    x[i-1] = (b[i-1] - s)/(A[i-1][i-1])\n",
        "\n",
        "  return x\n",
        "\n",
        "# Dados\n",
        "import numpy as np\n",
        "A = np.array([[3, 2, 4],[0,(1/3), (2/3)],[0, 0, 1]])\n",
        "b = [1, (5/3), 0]\n",
        "x = TriangularSup(A, b)\n",
        "x"
      ],
      "metadata": {
        "colab": {
          "base_uri": "https://localhost:8080/"
        },
        "id": "VC7TZ6D_QhDJ",
        "outputId": "ddf4b385-b639-4087-e1e0-64bb01b7b676"
      },
      "execution_count": null,
      "outputs": [
        {
          "output_type": "execute_result",
          "data": {
            "text/plain": [
              "[-3.0000000000000004, 5.000000000000001, 0.0]"
            ]
          },
          "metadata": {},
          "execution_count": 23
        }
      ]
    },
    {
      "cell_type": "markdown",
      "source": [
        "# Decomposição LU"
      ],
      "metadata": {
        "id": "67LO_-meUUaR"
      }
    },
    {
      "cell_type": "markdown",
      "source": [
        "2) Calcular a fatoração LU de uma matriz A, como podemos usar as funções anteriores para resolver o sistema:"
      ],
      "metadata": {
        "id": "PAxs9MkSdYji"
      }
    },
    {
      "cell_type": "code",
      "source": [
        "# Resolução com biblioteca implementada\n",
        "\n",
        "import sympy\n",
        "A = sympy.Matrix([[1, 2,0], [1, 3,1],[-2, 0,1] ])\n",
        "b = sympy.Matrix([3, 5,-1])\n",
        "L, U, _ = A.LUdecomposition()\n",
        "print(L)\n",
        "print(U)\n",
        "x = A.solve(b)\n",
        "print(x)"
      ],
      "metadata": {
        "colab": {
          "base_uri": "https://localhost:8080/"
        },
        "id": "GiJUnavLfQ4_",
        "outputId": "09578742-dfa2-4e05-cff7-d6e305517a72"
      },
      "execution_count": null,
      "outputs": [
        {
          "output_type": "stream",
          "name": "stdout",
          "text": [
            "Matrix([[1, 0, 0], [1, 1, 0], [-2, 4, 1]])\n",
            "Matrix([[1, 2, 0], [0, 1, 1], [0, 0, -3]])\n",
            "Matrix([[1], [1], [1]])\n"
          ]
        }
      ]
    },
    {
      "cell_type": "code",
      "source": [
        "# Sem bibloteca implementada 1\n",
        "# Retirado da internet\n",
        "\n",
        "def lu(A):\n",
        "\n",
        "    import numpy as np\n",
        "\n",
        "    # Return an error if matrix is not square\n",
        "    if not A.shape[0]==A.shape[1]:\n",
        "        raise ValueError(\"Input matrix must be square\")\n",
        "\n",
        "    n = A.shape[0]\n",
        "\n",
        "    L = np.zeros((n,n),dtype='float64')\n",
        "    U = np.zeros((n,n),dtype='float64')\n",
        "    U[:] = A\n",
        "    np.fill_diagonal(L,1) # fill the diagonal of L with 1\n",
        "\n",
        "    for i in range(n-1):\n",
        "        for j in range(i+1,n):\n",
        "            L[j,i] = U[j,i]/U[i,i]\n",
        "            U[j,i:] = U[j,i:]-L[j,i]*U[i,i:]\n",
        "            U[j,i] = 0\n",
        "    return (L,U)\n",
        "\n",
        "A = np.array([[1, 2, 0],[1,3, 1],[-2, 0, 1]])\n",
        "\n",
        "lu(A)"
      ],
      "metadata": {
        "colab": {
          "base_uri": "https://localhost:8080/"
        },
        "id": "xvZdCMlhZUTd",
        "outputId": "c1dadf15-9a1a-4333-a2d9-f2ba229de72c"
      },
      "execution_count": null,
      "outputs": [
        {
          "output_type": "execute_result",
          "data": {
            "text/plain": [
              "(array([[ 1.,  0.,  0.],\n",
              "        [ 1.,  1.,  0.],\n",
              "        [-2.,  4.,  1.]]),\n",
              " array([[ 1.,  2.,  0.],\n",
              "        [ 0.,  1.,  1.],\n",
              "        [ 0.,  0., -3.]]))"
            ]
          },
          "metadata": {},
          "execution_count": 25
        }
      ]
    },
    {
      "cell_type": "code",
      "source": [
        "# Sem bibloteca implementada 2\n",
        "\n",
        "# Decomposição LU\n",
        "\n",
        "import numpy as np\n",
        "\n",
        "def decompLU(A):\n",
        "    n = np.shape(A)[0]\n",
        "    L = np.eye(n)\n",
        "    U = np.zeros((n,n))\n",
        "    for k  in np.arange(n):\n",
        "      for j in np.arange(k,n):\n",
        "        U[k,j]=A[k,j]\n",
        "        for s in np.arange(k):\n",
        "          U[k,j] = U[k,j] - L[k,s]*U[s,j]\n",
        "      for i in np.arange(k+1,n):\n",
        "        L[i,k]=A[i,k]\n",
        "        for s in np.arange(k):\n",
        "          L[i,k] = L[i,k] - L[i,s]*U[s,k]\n",
        "        L[i,k] = L[i,k]/U[k,k]\n",
        "    return L, U\n",
        "\n",
        "A = np.array([[1, 2, 0],[1,3, 1],[-2, 0, 1]])\n",
        "\n",
        "decompLU(A)"
      ],
      "metadata": {
        "colab": {
          "base_uri": "https://localhost:8080/"
        },
        "id": "HuTvktFEaz-1",
        "outputId": "7f1f15c8-cb37-4981-ce72-959966ed2143"
      },
      "execution_count": null,
      "outputs": [
        {
          "output_type": "execute_result",
          "data": {
            "text/plain": [
              "(array([[ 1.,  0.,  0.],\n",
              "        [ 1.,  1.,  0.],\n",
              "        [-2.,  4.,  1.]]),\n",
              " array([[ 1.,  2.,  0.],\n",
              "        [ 0.,  1.,  1.],\n",
              "        [ 0.,  0., -3.]]))"
            ]
          },
          "metadata": {},
          "execution_count": 26
        }
      ]
    },
    {
      "cell_type": "code",
      "source": [
        "# Decomposição LU com menos for\n",
        "\n",
        "def LU( A ): # Realizando a decomposição LU\n",
        "\n",
        "    n = A.shape[ 0 ]\n",
        "    U = A.copy()\n",
        "    L = np.eye(n)\n",
        "    for j in range( n - 1 ):\n",
        "       for i in range( j + 1, n ):\n",
        "          L[ i, j ] = U[ i, j ] / U[ j, j ]\n",
        "          U[ i, j : n ] = U[ i, j : n ] - L[ i, j ] * U[ j, j : n ]\n",
        "    return ( L, U )\n",
        "\n",
        "A = np.array([[1, 2, 0],[1,3, 1],[-2, 0, 1]])\n",
        "LU(A)\n"
      ],
      "metadata": {
        "id": "s5r6nXiSuTtC"
      },
      "execution_count": null,
      "outputs": []
    },
    {
      "cell_type": "code",
      "source": [
        "# Descobrindo os valores de x\n",
        "\n",
        "def LUsolve2(A,b):\n",
        "  n = np.shape(A)[0]\n",
        "  L,U = decompLU(A)\n",
        "  y = TriangularInf(L,b)\n",
        "  x = TriangularSup(U,y)\n",
        "  return x\n",
        "\n",
        "# y = U*x\n",
        "LUsolve2(A, b)"
      ],
      "metadata": {
        "colab": {
          "base_uri": "https://localhost:8080/"
        },
        "id": "rZgFaOvOdz3F",
        "outputId": "2efd8970-041b-42af-a0b0-937d0d7a4d4f"
      },
      "execution_count": null,
      "outputs": [
        {
          "output_type": "execute_result",
          "data": {
            "text/plain": [
              "[1.00000000000000, 1.00000000000000, 1.00000000000000]"
            ]
          },
          "metadata": {},
          "execution_count": 27
        }
      ]
    },
    {
      "cell_type": "code",
      "source": [
        "# Outra forma\n",
        "\n",
        "def LUsolve2(A,b):\n",
        "  n = np.shape(A)[0]\n",
        "  L,U = decompLU(A)\n",
        "  TriangularInf(L,b)\n",
        "  TriangularSup(U,y)\n",
        "  return x\n",
        "\n",
        "y = U*x\n",
        "LUsolve2(A, b)"
      ],
      "metadata": {
        "colab": {
          "base_uri": "https://localhost:8080/",
          "height": 78
        },
        "id": "_fxTkrWAga8D",
        "outputId": "d9266df4-263c-487d-9eea-1c154e4b3d34"
      },
      "execution_count": null,
      "outputs": [
        {
          "output_type": "execute_result",
          "data": {
            "text/plain": [
              "Matrix([\n",
              "[1],\n",
              "[1],\n",
              "[1]])"
            ],
            "text/latex": "$\\displaystyle \\left[\\begin{matrix}1\\\\1\\\\1\\end{matrix}\\right]$"
          },
          "metadata": {},
          "execution_count": 28
        }
      ]
    },
    {
      "cell_type": "markdown",
      "source": [
        "Exercício proposto, cálculo da inversa da matriz A\n",
        "\n"
      ],
      "metadata": {
        "id": "0a-RZaG04hCO"
      }
    },
    {
      "cell_type": "code",
      "source": [
        "def inverter_matrix(A, I):\n",
        "    for i in range(len(A)):\n",
        "        iScaler = 1.0 / A[i][i]\n",
        "        for j in range(len(A)):\n",
        "            A[i][j] *= iScaler\n",
        "            I[i][j] *= iScaler\n",
        "        for k in list(range(len(A)))[0:i] + list(range(len(A)))[i+1:]:\n",
        "            crScaler = A[k][i]\n",
        "            for j in range(len(A)):\n",
        "                A[k][j] = A[k][j] - crScaler * A[i][j]\n",
        "                I[k][j] = I[k][j] - crScaler * I[i][j]\n",
        "    return I\n",
        "\n",
        "A = np.array([[6, 1, 1],\n",
        "              [4, -2, 5],\n",
        "              [2, 8, 7]])\n",
        "\n",
        "n = len(A)\n",
        "I = np.zeros([n, n]) # Criando uma matriz de zeros para a identidade\n",
        "for i in range(0, n):\n",
        "  I[i][i] += 1\n",
        "\n",
        "inverter_matrix(A, I)"
      ],
      "metadata": {
        "colab": {
          "base_uri": "https://localhost:8080/"
        },
        "id": "4g9cCuuFT_zS",
        "outputId": "50ff8a38-7511-4115-e79d-5531d2579ba4"
      },
      "execution_count": null,
      "outputs": [
        {
          "output_type": "execute_result",
          "data": {
            "text/plain": [
              "array([[ 0.16666667,  0.        ,  0.        ],\n",
              "       [ 0.07246377, -0.15217391,  0.08695652],\n",
              "       [-0.13043478,  0.17391304,  0.04347826]])"
            ]
          },
          "metadata": {},
          "execution_count": 36
        }
      ]
    },
    {
      "cell_type": "code",
      "source": [
        "import numpy as np\n",
        "A = np.array([[6, 1, 1],\n",
        "              [4, -2, 5],\n",
        "              [2, 8, 7]])\n",
        "print(np.linalg.inv(A))"
      ],
      "metadata": {
        "colab": {
          "base_uri": "https://localhost:8080/"
        },
        "id": "3haTstd4-pxl",
        "outputId": "16e70261-bfaf-4c2f-88e9-2b25b1dca9d3"
      },
      "execution_count": null,
      "outputs": [
        {
          "output_type": "stream",
          "name": "stdout",
          "text": [
            "[[ 0.17647059 -0.00326797 -0.02287582]\n",
            " [ 0.05882353 -0.13071895  0.08496732]\n",
            " [-0.11764706  0.1503268   0.05228758]]\n"
          ]
        }
      ]
    },
    {
      "cell_type": "code",
      "source": [
        "A = np.array([[3, 2, 4],[0,(1/3), (2/3)],[0, 0, 1]])\n",
        "print(np.linalg.inv(A))"
      ],
      "metadata": {
        "colab": {
          "base_uri": "https://localhost:8080/"
        },
        "id": "sIcknq4DVaZI",
        "outputId": "7239d3fc-8500-4a98-99b1-5c4b89b59194"
      },
      "execution_count": null,
      "outputs": [
        {
          "output_type": "stream",
          "name": "stdout",
          "text": [
            "[[ 0.33333333 -2.          0.        ]\n",
            " [ 0.          3.         -2.        ]\n",
            " [ 0.          0.          1.        ]]\n"
          ]
        }
      ]
    },
    {
      "cell_type": "markdown",
      "source": [
        "# Eliminação de Gauss"
      ],
      "metadata": {
        "id": "o7AQXMg9eTTY"
      }
    },
    {
      "cell_type": "code",
      "source": [
        "#Eliminação de Gauss\n",
        "\n",
        "import numpy as np\n",
        "\n",
        "def ElimGauss(a,b):\n",
        "  n = len(b)\n",
        "  for k in range(0,n-1):\n",
        "    for i in range(k+1,n):\n",
        "      if a[i,k] != 0.0:\n",
        "        lam = a[i,k]/a[k,k]\n",
        "        a[i,k+1:n] = a[i,k+1:n] - lam*a[k,k+1:n]\n",
        "        b[i] = b[i] - lam*b[k]\n",
        "  return a, b\n",
        "\n",
        "def SolveSis(a,b):\n",
        "  n = len(b)\n",
        "  a, b = ElimGauss(a,b)\n",
        "  x = TriangularSup(a,b)\n",
        "  return x\n",
        "  #for k in range(n-1,-1,-1):\n",
        "  #   b[k] = (b[k] - a[k,k+1:n].dot(b[k+1:n]))/a[k,k]\n",
        "  #return b\n",
        "\n",
        "#Exemplo\n",
        "A = np.array([[2, 1,2], [4, 3,3],[6, 5,-1]])\n",
        "b = np.array([-1,0,6])\n",
        "x = SolveSis(A,b)\n",
        "print(x)"
      ],
      "metadata": {
        "colab": {
          "base_uri": "https://localhost:8080/"
        },
        "id": "cygS_PFRfpHF",
        "outputId": "63a447b1-c6aa-4b58-9d2c-d68ae09f8455"
      },
      "execution_count": null,
      "outputs": [
        {
          "output_type": "stream",
          "name": "stdout",
          "text": [
            "[0.0, 1.0, -1.0]\n"
          ]
        }
      ]
    }
  ]
}