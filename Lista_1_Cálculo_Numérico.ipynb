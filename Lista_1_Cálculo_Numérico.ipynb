{
  "nbformat": 4,
  "nbformat_minor": 0,
  "metadata": {
    "colab": {
      "provenance": [],
      "authorship_tag": "ABX9TyM4AEIW1iDIswfcfKjh42XN",
      "include_colab_link": true
    },
    "kernelspec": {
      "name": "python3",
      "display_name": "Python 3"
    },
    "language_info": {
      "name": "python"
    }
  },
  "cells": [
    {
      "cell_type": "markdown",
      "metadata": {
        "id": "view-in-github",
        "colab_type": "text"
      },
      "source": [
        "<a href=\"https://colab.research.google.com/github/emanuel379/Calculo-Numerico/blob/main/Lista_1_C%C3%A1lculo_Num%C3%A9rico.ipynb\" target=\"_parent\"><img src=\"https://colab.research.google.com/assets/colab-badge.svg\" alt=\"Open In Colab\"/></a>"
      ]
    },
    {
      "cell_type": "markdown",
      "source": [
        "# Métodos Diretos"
      ],
      "metadata": {
        "id": "wywouzdrIST7"
      }
    },
    {
      "cell_type": "markdown",
      "source": [
        "1) Escreva um programa que calcule a decomposi¸c˜ao LU de uma matriz e em seguida calcule\n",
        "o determinante da mesma. Verifique seu c´odigo comparando o resultado obtido usando fun¸c˜oes\n",
        "fornecidas por bibliotecas Python para as seguintes matrizes:\n",
        "a) A =\n",
        "\n",
        "2 −3 −1\n",
        "3 2 −5\n",
        "2 4 −1\n",
        "\n",
        "\n",
        "b) B =\n",
        "\n",
        "2 0 −1 0\n",
        "0 1 2 0\n",
        "−1 2 0 1\n",
        "0 0 1 −2\n"
      ],
      "metadata": {
        "id": "OcyXg7Huvuff"
      }
    },
    {
      "cell_type": "markdown",
      "source": [
        "2) Com as decomposi¸c˜oes obtidas no exerc´ıcio anterior, escreva um c´odigo que resolva os seguintes\n",
        "sistemas lineares:\n",
        "a) Ax = b em que b =\n",
        "3\n",
        "−9\n",
        "−5\n",
        "\n",
        "b) BX = Z em que Z =\n",
        "\n",
        "1 0\n",
        "0 0\n",
        "0 1\n",
        "0 0\n"
      ],
      "metadata": {
        "id": "qntlgiPC8wtK"
      }
    },
    {
      "cell_type": "code",
      "execution_count": null,
      "metadata": {
        "colab": {
          "base_uri": "https://localhost:8080/"
        },
        "id": "akRF08mZvcE2",
        "outputId": "6a9334fb-b150-4fd8-adfd-0361c356379b"
      },
      "outputs": [
        {
          "output_type": "stream",
          "name": "stdout",
          "text": [
            "O determinante de A é 49\n"
          ]
        },
        {
          "output_type": "execute_result",
          "data": {
            "text/plain": [
              "(array([[1.        , 0.        , 0.        ],\n",
              "        [1.5       , 1.        , 0.        ],\n",
              "        [1.        , 1.07692308, 1.        ]]),\n",
              " array([[ 2.        , -3.        , -1.        ],\n",
              "        [ 0.        ,  6.5       , -3.5       ],\n",
              "        [ 0.        ,  0.        ,  3.76923077]]))"
            ]
          },
          "metadata": {},
          "execution_count": 146
        }
      ],
      "source": [
        "# 1 - a\n",
        "\n",
        "# Decomposição LU\n",
        "\n",
        "import numpy as np\n",
        "def lu(A):\n",
        "\n",
        "    # Garantindo que a operação não continue caso a matriz não seja quadrada\n",
        "    if not A.shape[0]==A.shape[1]:\n",
        "        raise ValueError(\"Input matrix must be square\")\n",
        "\n",
        "    # Se a matriz for quadrada, teremos\n",
        "\n",
        "    n = A.shape[0] # Calculando o tamanho da matriz\n",
        "\n",
        "    # Criando duas matrizes de zeros do tamanho de A\n",
        "    L = np.zeros((n,n),dtype='float64')\n",
        "    U = np.zeros((n,n),dtype='float64')\n",
        "    U[:] = A # Inserindo A em U\n",
        "    np.fill_diagonal(L,1) # Colocando 1 na diagonal principal de L\n",
        "\n",
        "    for i in range(n-1):\n",
        "        for j in range(i+1,n):\n",
        "            L[j,i] = U[j,i]/U[i,i] # Inserindo os elementos abaixo da diagonal principal de L\n",
        "            U[j,i:] = U[j,i:]-L[j,i]*U[i,i:] # Inserindo os elemento que irão compor a matriz U\n",
        "            U[j,i] = 0 # Inserindo 0 abaixo da diagonal principal de U\n",
        "    det = np.linalg.det(L@U) # Calculando o determinante de A na decomposição LU\n",
        "    print('O determinante de A é', round(det))\n",
        "    return (L,U)\n",
        "\n",
        "A = np.array([[2, -3, -1],[3, 2, -5],[2, 4, -1]])\n",
        "\n",
        "lu(A)"
      ]
    },
    {
      "cell_type": "code",
      "source": [
        "# 2 - a\n",
        "\n",
        "def TriangularInf(A, b):\n",
        "  n = len(b)\n",
        "  x = [0]*n # Matriz nula com comprimento n\n",
        "  x[0] = b[0]/A[0][0]\n",
        "\n",
        "  for i in list(range(1, n, 1)):\n",
        "    s = 0\n",
        "    for j in list(range(0, i, 1)):\n",
        "      s = s + A[i][j]*x[j]\n",
        "\n",
        "    x[i] = (b[i] - s)/(A[i][i])\n",
        "\n",
        "  return x\n",
        "\n",
        "def TriangularSup(A, b):\n",
        "  n = len(b)\n",
        "  x = [0]*n\n",
        "  x[n-1] = b[n-1]/A[n-1][n-1]\n",
        "\n",
        "  for i in list(range(n - 1, 0, -1)):\n",
        "    s = 0\n",
        "    for j in list(range(i+1, n+1, 1)):\n",
        "      s = s + A[i-1][j-1]*x[j-1]\n",
        "\n",
        "    x[i-1] = (b[i-1] - s)/(A[i-1][i-1])\n",
        "\n",
        "  return x\n",
        "\n",
        "def LUsolve(A,b):\n",
        "  n = np.shape(A)[0]\n",
        "  L,U = lu(A)\n",
        "  y = TriangularInf(L,b)\n",
        "  x = TriangularSup(U,y)\n",
        "  return x\n",
        "\n",
        "A = np.array([[2, -3, -1],[3, 2, -5],[2, 4, -1]])\n",
        "b = [3, -9, -5]\n",
        "LUsolve(A, b)"
      ],
      "metadata": {
        "colab": {
          "base_uri": "https://localhost:8080/"
        },
        "id": "iHwy6NpC8oVz",
        "outputId": "2f2afc55-0ddf-4a75-a430-2a8c003f6351"
      },
      "execution_count": null,
      "outputs": [
        {
          "output_type": "stream",
          "name": "stdout",
          "text": [
            "O determinante de A é 49\n"
          ]
        },
        {
          "output_type": "execute_result",
          "data": {
            "text/plain": [
              "[0.653061224489796, -1.1428571428571428, 1.7346938775510203]"
            ]
          },
          "metadata": {},
          "execution_count": 147
        }
      ]
    },
    {
      "cell_type": "code",
      "source": [
        "# Comparando com o determinante de A\n",
        "det = np.linalg.det(A)\n",
        "print('O determinante de A é', round(det))"
      ],
      "metadata": {
        "colab": {
          "base_uri": "https://localhost:8080/"
        },
        "id": "SqZTVabN5oER",
        "outputId": "d9c60dc0-d11c-448d-f801-7ab4fe607eac"
      },
      "execution_count": null,
      "outputs": [
        {
          "output_type": "stream",
          "name": "stdout",
          "text": [
            "O determinante de A é 49\n"
          ]
        }
      ]
    },
    {
      "cell_type": "code",
      "source": [
        "# Comparando com a biblioteca implementada\n",
        "\n",
        "import sympy\n",
        "A = sympy.Matrix([[ 2, -3, -1], [3, 2, -5],[2, 4,-1]])\n",
        "b = sympy.Matrix([3, -9, -5])\n",
        "L, U, _ = A.LUdecomposition()\n",
        "print(L)\n",
        "print(U)\n",
        "x = A.solve(b)\n",
        "print(x)"
      ],
      "metadata": {
        "colab": {
          "base_uri": "https://localhost:8080/"
        },
        "id": "P67KntuO5Hmr",
        "outputId": "b3b61652-164b-4a70-ba62-2049fcfd2d27"
      },
      "execution_count": null,
      "outputs": [
        {
          "output_type": "stream",
          "name": "stdout",
          "text": [
            "Matrix([[1, 0, 0], [3/2, 1, 0], [1, 14/13, 1]])\n",
            "Matrix([[2, -3, -1], [0, 13/2, -7/2], [0, 0, 49/13]])\n",
            "Matrix([[32/49], [-8/7], [85/49]])\n"
          ]
        }
      ]
    },
    {
      "cell_type": "code",
      "source": [
        "# 1 - b\n",
        "\n",
        "# Decomposição LU\n",
        "\n",
        "import numpy as np\n",
        "def lu(A):\n",
        "\n",
        "    # Garantindo que a operação não continue caso a matriz não seja quadrada\n",
        "    if not A.shape[0]==A.shape[1]:\n",
        "        raise ValueError(\"Input matrix must be square\")\n",
        "\n",
        "    # Se a matriz for quadrada, teremos\n",
        "\n",
        "    n = A.shape[0] # Calculando o tamanho da matriz\n",
        "\n",
        "    # Criando duas matrizes de zeros do tamanho de A\n",
        "    L = np.zeros((n,n),dtype='float64')\n",
        "    U = np.zeros((n,n),dtype='float64')\n",
        "    U[:] = A # Inserindo A em U\n",
        "    np.fill_diagonal(L,1) # Colocando 1 na diagonal principal de L\n",
        "\n",
        "    for i in range(n-1):\n",
        "        for j in range(i+1,n):\n",
        "            L[j,i] = U[j,i]/U[i,i] # Inserindo os elementos abaixo da diagonal principal de L\n",
        "            U[j,i:] = U[j,i:]-L[j,i]*U[i,i:] # Inserindo os elemento que irão compor a matriz U\n",
        "            U[j,i] = 0 # Inserindo 0 abaixo da diagonal principal de U\n",
        "    det = np.linalg.det(L@U) # Calculando o determinante de A na decomposição LU\n",
        "    print('O determinante de B é', round(det))\n",
        "    return (L,U)\n",
        "\n",
        "B = np.array([[2, 0, -1, 0],[0, 1, 2, 0],[-1, 2, 0, 1],[0, 0, 1, -2]])\n",
        "lu(B)"
      ],
      "metadata": {
        "colab": {
          "base_uri": "https://localhost:8080/"
        },
        "id": "DqGnaYVi5iDU",
        "outputId": "2da40f13-67df-4ecf-b599-767447c76426"
      },
      "execution_count": null,
      "outputs": [
        {
          "output_type": "stream",
          "name": "stdout",
          "text": [
            "O determinante de B é 16\n"
          ]
        },
        {
          "output_type": "execute_result",
          "data": {
            "text/plain": [
              "(array([[ 1.        ,  0.        ,  0.        ,  0.        ],\n",
              "        [ 0.        ,  1.        ,  0.        ,  0.        ],\n",
              "        [-0.5       ,  2.        ,  1.        ,  0.        ],\n",
              "        [ 0.        ,  0.        , -0.22222222,  1.        ]]),\n",
              " array([[ 2.        ,  0.        , -1.        ,  0.        ],\n",
              "        [ 0.        ,  1.        ,  2.        ,  0.        ],\n",
              "        [ 0.        ,  0.        , -4.5       ,  1.        ],\n",
              "        [ 0.        ,  0.        ,  0.        , -1.77777778]]))"
            ]
          },
          "metadata": {},
          "execution_count": 150
        }
      ]
    },
    {
      "cell_type": "code",
      "source": [
        "# 2 - b\n",
        "\n",
        "def TriangularInf(A, b):\n",
        "  n = len(b)\n",
        "  x = [0]*n # Matriz nula com comprimento n\n",
        "  x[0] = b[0]/A[0][0]\n",
        "\n",
        "  for i in list(range(1, n, 1)):\n",
        "    s = 0\n",
        "    for j in list(range(0, i, 1)):\n",
        "      s = s + A[i][j]*x[j]\n",
        "\n",
        "    x[i] = (b[i] - s)/(A[i][i])\n",
        "\n",
        "  return x\n",
        "\n",
        "def TriangularSup(A, b):\n",
        "  n = len(b)\n",
        "  x = [0]*n\n",
        "  x[n-1] = b[n-1]/A[n-1][n-1]\n",
        "\n",
        "  for i in list(range(n - 1, 0, -1)):\n",
        "    s = 0\n",
        "    for j in list(range(i+1, n+1, 1)):\n",
        "      s = s + A[i-1][j-1]*x[j-1]\n",
        "\n",
        "    x[i-1] = (b[i-1] - s)/(A[i-1][i-1])\n",
        "\n",
        "  return x\n",
        "\n",
        "def LUsolve(A,b):\n",
        "  n = np.shape(A)[0]\n",
        "  L,U = lu(B)\n",
        "  y = TriangularInf(L,b)\n",
        "  x = TriangularSup(U,y)\n",
        "  return x\n",
        "\n",
        "B = np.array([[2, 0, -1, 0],[0, 1, 2, 0],[-1, 2, 0, 1],[0, 0, 1, -2]])\n",
        "b = np.array([[1, 0],[0, 0],[0, 1],[0, 0]])\n",
        "LUsolve(B, b)"
      ],
      "metadata": {
        "colab": {
          "base_uri": "https://localhost:8080/"
        },
        "id": "w5amIu1X-nPp",
        "outputId": "19cbe265-f99a-4693-f9e1-dd7e2678c63d"
      },
      "execution_count": null,
      "outputs": [
        {
          "output_type": "stream",
          "name": "stdout",
          "text": [
            "O determinante de B é 16\n"
          ]
        },
        {
          "output_type": "execute_result",
          "data": {
            "text/plain": [
              "[array([ 0.4375, -0.125 ]),\n",
              " array([0.25, 0.5 ]),\n",
              " array([-0.125, -0.25 ]),\n",
              " array([-0.0625, -0.125 ])]"
            ]
          },
          "metadata": {},
          "execution_count": 151
        }
      ]
    },
    {
      "cell_type": "code",
      "source": [
        "# Comparando com o determinante de B\n",
        "det = np.linalg.det(B)\n",
        "print('O determinante de B é', round(det))"
      ],
      "metadata": {
        "colab": {
          "base_uri": "https://localhost:8080/"
        },
        "id": "QeGkCDxu6bOZ",
        "outputId": "26b0dc70-2cc2-4375-e5b5-aa1733d88340"
      },
      "execution_count": null,
      "outputs": [
        {
          "output_type": "stream",
          "name": "stdout",
          "text": [
            "O determinante de B é 16\n"
          ]
        }
      ]
    },
    {
      "cell_type": "code",
      "source": [
        "# Comparando com a biblioteca implementada\n",
        "\n",
        "import sympy\n",
        "B = sympy.Matrix([[2, 0, -1, 0],[0, 1, 2, 0],[-1, 2, 0, 1],[0, 0, 1, -2]])\n",
        "b = sympy.Matrix([[1, 0],[0, 0],[0, 1],[0, 0]])\n",
        "L, U, _ = B.LUdecomposition()\n",
        "print(L)\n",
        "print(U)\n",
        "x = B.solve(b)\n",
        "print(x)"
      ],
      "metadata": {
        "colab": {
          "base_uri": "https://localhost:8080/"
        },
        "id": "G4C3dowz62Dc",
        "outputId": "b1d58390-2181-454f-c910-b5021cf48d24"
      },
      "execution_count": null,
      "outputs": [
        {
          "output_type": "stream",
          "name": "stdout",
          "text": [
            "Matrix([[1, 0, 0, 0], [0, 1, 0, 0], [-1/2, 2, 1, 0], [0, 0, -2/9, 1]])\n",
            "Matrix([[2, 0, -1, 0], [0, 1, 2, 0], [0, 0, -9/2, 1], [0, 0, 0, -16/9]])\n",
            "Matrix([[7/16, -1/8], [1/4, 1/2], [-1/8, -1/4], [-1/16, -1/8]])\n"
          ]
        }
      ]
    },
    {
      "cell_type": "markdown",
      "source": [
        "3) Escreva um c´odigo para resolver o sistema dado usando pivoteamento parcial:\n",
        "\n",
        "0 0 2 1 2\n",
        "0 1 0 2 −1\n",
        "1 2 0 −2 0\n",
        "0 0 0 −1 1\n",
        "0 1 −1 1 −1\n",
        "x =\n",
        "\n",
        "1\n",
        "1\n",
        "−4\n",
        "−2\n",
        "−1\n",
        ".\n",
        "Resolva o mesmo sistema com o c´odigo elaborado no exerc´ıcio 2 (sem pivoteamento parcial) e\n",
        "compare os resultados"
      ],
      "metadata": {
        "id": "bwyXZLJKDgsZ"
      }
    },
    {
      "cell_type": "code",
      "source": [
        "def sub_regressiva(U,y):\n",
        "  n = np.shape(y)[0]\n",
        "  x = np.zeros(n)\n",
        "\n",
        "  for i in np.arange(n-1,-1,-1):\n",
        "    x[i] = (y[i]-U[i,i+1:n].dot(x[i+1:n]))/U[i,i]\n",
        "\n",
        "  return x\n",
        "\n",
        "def sub_progressiva(L,b):\n",
        "  n = np.shape(b)[0]\n",
        "  z = np.zeros(n)\n",
        "\n",
        "  for i in np.arange(n):\n",
        "    z[i] = (b[i]-L[i,0:i].dot(z[0:i]))/L[i,i]\n",
        "  return z\n",
        "\n",
        "# LU com pivô\n",
        "\n",
        "def fatoraLUpivo(A):\n",
        "  U = np.copy(A)\n",
        "  n = np.shape(U)[0]\n",
        "  L = np.eye(n)\n",
        "  P = np.copy(L)\n",
        "\n",
        "  for j in np.arange(n-1):\n",
        "      p = np.argmax(np.abs(U[j:n,j]))\n",
        "      P[[j,p],:] = P[[p,j],:]\n",
        "      U[[j,p],j:n] = U[[p,j],j:n]\n",
        "      L[[j,p],0:j] = L[[p,j],0:j]\n",
        "\n",
        "      for i in np.arange(j+1,n):\n",
        "        L[i,j] = U[i,j]/U[j,j]\n",
        "        U[i,j+1:n] = U[i,j+1:n] - L[i,j]*U[j,j+1:n]\n",
        "        U[i,j] = 0\n",
        "\n",
        "  return L,U,P\n",
        "\n",
        "A = np.array([[0, 0, 2, 1, 2],\n",
        "            [0, 1, 0, 2, -1],\n",
        "             [1, 2, 0, -2, 0],\n",
        "             [0, 0, 0, -1, 1],\n",
        "             [0, 1, -1, 1, -1]])\n",
        "\n",
        "b = np.array([1, 1, -4, -2, -1])\n",
        "\n",
        "fatoraLUpivo(A)\n",
        "\n",
        "(L,U,P) = fatoraLUpivo(A)\n",
        "bpivo = P.dot(b)\n",
        "ypivo = sub_progressiva(L,bpivo)\n",
        "x_pivo_lu = sub_regressiva(U,ypivo)\n",
        "print(x_pivo_lu)"
      ],
      "metadata": {
        "colab": {
          "base_uri": "https://localhost:8080/"
        },
        "id": "DsPtEZBYLlwW",
        "outputId": "6a85cf6b-e6ca-4b87-de23-2ce9e5f3b3ba"
      },
      "execution_count": null,
      "outputs": [
        {
          "output_type": "stream",
          "name": "stdout",
          "text": [
            "[nan nan nan nan nan]\n"
          ]
        },
        {
          "output_type": "stream",
          "name": "stderr",
          "text": [
            "<ipython-input-154-c72d1ae652bd>:33: RuntimeWarning: invalid value encountered in long_scalars\n",
            "  L[i,j] = U[i,j]/U[j,j]\n",
            "<ipython-input-154-c72d1ae652bd>:33: RuntimeWarning: divide by zero encountered in long_scalars\n",
            "  L[i,j] = U[i,j]/U[j,j]\n",
            "<ipython-input-154-c72d1ae652bd>:15: RuntimeWarning: divide by zero encountered in double_scalars\n",
            "  z[i] = (b[i]-L[i,0:i].dot(z[0:i]))/L[i,i]\n"
          ]
        }
      ]
    },
    {
      "cell_type": "markdown",
      "source": [
        "4) Usando o c´odigo j´a elaborado para decomposi¸c˜ao LU com pivoteamento, escreva outro c´odigo\n",
        "para inverter uma matriz qualquer. Aplique seu c´odigo para calcular a inversa da matriz\n",
        "A =\n",
        "0.6 −0.4 1.0\n",
        "−0.3 0.2 0.5\n",
        "0.6 −1.0 0.5\n",
        " ."
      ],
      "metadata": {
        "id": "lQMfuPAeJQrD"
      }
    },
    {
      "cell_type": "code",
      "source": [
        "# LU com pivô\n",
        "\n",
        "def fatoraLUpivo(A):\n",
        "  U = np.copy(A)\n",
        "  n = np.shape(U)[0]\n",
        "  L = np.eye(n)\n",
        "  P = np.copy(L)\n",
        "\n",
        "  for j in np.arange(n-1):\n",
        "      p = np.argmax(np.abs(U[j:n,j]))\n",
        "      P[[j,p],:] = P[[p,j],:]\n",
        "      U[[j,p],j:n] = U[[p,j],j:n]\n",
        "      L[[j,p],0:j] = L[[p,j],0:j]\n",
        "\n",
        "      for i in np.arange(j+1,n):\n",
        "        L[i,j] = U[i,j]/U[j,j]\n",
        "        U[i,j+1:n] = U[i,j+1:n] - L[i,j]*U[j,j+1:n]\n",
        "        U[i,j] = 0\n",
        "\n",
        "  return L,U,P\n",
        "\n",
        "A = np.array([[0.6, -0.4, 1],\n",
        "              [-0.3, 0.2, 0.5],\n",
        "              [0.6, -1, 0.5]], dtype = 'double')\n",
        "\n",
        "fatoraLUpivo(A)"
      ],
      "metadata": {
        "colab": {
          "base_uri": "https://localhost:8080/"
        },
        "id": "5IHBwTG3JkdB",
        "outputId": "53ac3ddf-836e-40f5-d0a5-47d23983b7e3"
      },
      "execution_count": null,
      "outputs": [
        {
          "output_type": "stream",
          "name": "stderr",
          "text": [
            "<ipython-input-155-f452ffc7cc84>:16: RuntimeWarning: divide by zero encountered in double_scalars\n",
            "  L[i,j] = U[i,j]/U[j,j]\n"
          ]
        },
        {
          "output_type": "execute_result",
          "data": {
            "text/plain": [
              "(array([[ 1. ,  0. ,  0. ],\n",
              "        [-0.5,  1. ,  0. ],\n",
              "        [ 1. , -inf,  1. ]]),\n",
              " array([[ 0.6, -0.4,  1. ],\n",
              "        [ 0. ,  0. ,  1. ],\n",
              "        [ 0. ,  0. ,  inf]]),\n",
              " array([[1., 0., 0.],\n",
              "        [0., 1., 0.],\n",
              "        [0., 0., 1.]]))"
            ]
          },
          "metadata": {},
          "execution_count": 155
        }
      ]
    },
    {
      "cell_type": "markdown",
      "source": [
        "# Métodos Iterativos"
      ],
      "metadata": {
        "id": "aXyr5zdFIoBe"
      }
    },
    {
      "cell_type": "markdown",
      "source": [
        "1) Escreva dois c´odigos: um que resolva um sistema linear qualquer utilizando o m´etodo de\n",
        "Gauss-Jacobi e outro utilizando Gauss-Seidel. Escolha algum dos sistemas da se¸c˜ao anterior e\n",
        "resolva-o utilizando os dois m´etodos, compare os resultados obtidos com o m´etodo direto.\n"
      ],
      "metadata": {
        "id": "icLG4NozooH_"
      }
    },
    {
      "cell_type": "code",
      "source": [
        "import numpy as np\n",
        "import math as m\n",
        "\n",
        "# Gauss-Jacobi\n",
        "\n",
        "def gauss_jacobi(A,b,x0,tol,flag):\n",
        "    n = np.shape(A)[0]\n",
        "    D = np.diag(np.diag(A))\n",
        "    aux_C = np.linalg.solve(D,A)\n",
        "    C = np.eye(n) - aux_C\n",
        "    g = np.linalg.solve(D,b)\n",
        "    kmax = 10000\n",
        "    k = 0\n",
        "\n",
        "    error = np.zeros(kmax)\n",
        "    if flag:\n",
        "      statment = (np.linalg.norm(b-A.dot(x0))>tol and k<kmax)\n",
        "    else:\n",
        "      statment = (k<kmax)\n",
        "\n",
        "    while statment:\n",
        "      error[k] = np.linalg.norm(b-A.dot(x0))\n",
        "      k = k+1\n",
        "      x0 = C.dot(x0)+g\n",
        "      if flag:\n",
        "        statment = (np.linalg.norm(b-A.dot(x0))>tol and k<kmax)\n",
        "      else:\n",
        "        statment = (k<kmax)\n",
        "\n",
        "    if (k == kmax and flag):\n",
        "      print('\\nErro: o método não converge.\\n')\n",
        "\n",
        "    x = x0;\n",
        "    return x,k,error"
      ],
      "metadata": {
        "id": "9Mg6d5B8oFTG"
      },
      "execution_count": null,
      "outputs": []
    },
    {
      "cell_type": "code",
      "source": [
        "# Gauss-Seidel\n",
        "\n",
        "def gauss_seidel(A, b, x0, tol, flag):\n",
        "  L = np.tril(A)\n",
        "  R = np.triu(A,1)\n",
        "  C = -np.linalg.solve(L,R)\n",
        "  g = np.linalg.solve(L,b)\n",
        "  kmax = 10000\n",
        "  k = 0\n",
        "\n",
        "  error = np.zeros(kmax)\n",
        "  if flag:\n",
        "      statment = (np.linalg.norm(b-A.dot(x0))>tol and k<kmax)\n",
        "  else:\n",
        "      statment = (k<kmax)\n",
        "\n",
        "  while statment:\n",
        "      error[k] = np.linalg.norm(b-A.dot(x0))\n",
        "      k = k+1\n",
        "      x0 = C.dot(x0)+g\n",
        "      if flag:\n",
        "        statment = (np.linalg.norm(b-A.dot(x0))>tol and k<kmax)\n",
        "      else:\n",
        "        statment = (k<kmax)\n",
        "\n",
        "  if (k == kmax and flag):\n",
        "      print('\\\\nErro: o método não converge.\\\\n')\n",
        "\n",
        "  x = x0;\n",
        "  return x,k,error"
      ],
      "metadata": {
        "id": "jzivDljVowie"
      },
      "execution_count": null,
      "outputs": []
    },
    {
      "cell_type": "code",
      "source": [
        "A = np.array([[2, -3, -1],[3, 2, -5],[2, 4, -1]])\n",
        "print(A)\n",
        "b = [3, -9, -5]\n",
        "print(b)\n",
        "\n",
        "# Função Python\n",
        "print('\\nSolução Python:\\n')\n",
        "x = np.linalg.solve(A,b)\n",
        "print(x)\n",
        "\n",
        "input()\n",
        "\n",
        "# Métodos Iterativos\n",
        "n = np.shape(A)[0]\n",
        "x0 = np.zeros(n)\n",
        "tol = 0.00000001\n",
        "print('\\nSolução Gauss-Jacobi:\\n')\n",
        "(x_jacobi,k_jacobi,erro_jacobi) = gauss_jacobi(A,b,x0,tol,1)\n",
        "print(x_jacobi)\n",
        "print('%d iterações usadas' %(k_jacobi))\n",
        "\n",
        "input()\n",
        "\n",
        "print('\\nSolução Gauss-Siedel:\\n')\n",
        "(x_siedel,k_siedel,erro_siedel) = gauss_seidel(A,b,x0,tol,1)\n",
        "print(x_siedel)\n",
        "print('%d iterações usadas' %(k_siedel))"
      ],
      "metadata": {
        "colab": {
          "base_uri": "https://localhost:8080/"
        },
        "id": "f9tXfqPmpg3j",
        "outputId": "9062d3f5-0c3d-42e4-ba38-778a12b6d619"
      },
      "execution_count": null,
      "outputs": [
        {
          "output_type": "stream",
          "name": "stdout",
          "text": [
            "[[ 2 -3 -1]\n",
            " [ 3  2 -5]\n",
            " [ 2  4 -1]]\n",
            "[3, -9, -5]\n",
            "\n",
            "Solução Python:\n",
            "\n",
            "[ 0.65306122 -1.14285714  1.73469388]\n",
            "\n",
            "\n",
            "Solução Gauss-Jacobi:\n",
            "\n",
            "[-1.02774715e+308 -1.38844297e+308             -inf]\n",
            "614 iterações usadas\n",
            "\n",
            "\n",
            "Solução Gauss-Siedel:\n",
            "\n",
            "[-6.06847790e+307 -1.01353898e+308             -inf]\n",
            "369 iterações usadas\n"
          ]
        }
      ]
    },
    {
      "cell_type": "code",
      "source": [
        "# Método direto\n",
        "\n",
        "def lu(A):\n",
        "\n",
        "    # Garantindo que a operação não continue caso a matriz não seja quadrada\n",
        "    if not A.shape[0]==A.shape[1]:\n",
        "        raise ValueError(\"Input matrix must be square\")\n",
        "\n",
        "    # Se a matriz for quadrada, teremos\n",
        "\n",
        "    n = A.shape[0] # Calculando o tamanho da matriz\n",
        "\n",
        "    # Criando duas matrizes de zeros do tamanho de A\n",
        "    L = np.zeros((n,n),dtype='float64')\n",
        "    U = np.zeros((n,n),dtype='float64')\n",
        "    U[:] = A # Inserindo A em U\n",
        "    np.fill_diagonal(L,1) # Colocando 1 na diagonal principal de L\n",
        "\n",
        "    for i in range(n-1):\n",
        "        for j in range(i+1,n):\n",
        "            L[j,i] = U[j,i]/U[i,i] # Inserindo os elementos abaixo da diagonal principal de L\n",
        "            U[j,i:] = U[j,i:]-L[j,i]*U[i,i:] # Inserindo os elemento que irão compor a matriz U\n",
        "            U[j,i] = 0 # Inserindo 0 abaixo da diagonal principal de U\n",
        "    det = np.linalg.det(L@U) # Calculando o determinante de A na decomposição LU\n",
        "    print('O determinante de A é', round(det))\n",
        "    return (L,U)\n",
        "\n",
        "def TriangularInf(A, b):\n",
        "  n = len(b)\n",
        "  x = [0]*n # Matriz nula com comprimento n\n",
        "  x[0] = b[0]/A[0][0]\n",
        "\n",
        "  for i in list(range(1, n, 1)):\n",
        "    s = 0\n",
        "    for j in list(range(0, i, 1)):\n",
        "      s = s + A[i][j]*x[j]\n",
        "\n",
        "    x[i] = (b[i] - s)/(A[i][i])\n",
        "\n",
        "  return x\n",
        "\n",
        "def TriangularSup(A, b):\n",
        "  n = len(b)\n",
        "  x = [0]*n\n",
        "  x[n-1] = b[n-1]/A[n-1][n-1]\n",
        "\n",
        "  for i in list(range(n - 1, 0, -1)):\n",
        "    s = 0\n",
        "    for j in list(range(i+1, n+1, 1)):\n",
        "      s = s + A[i-1][j-1]*x[j-1]\n",
        "\n",
        "    x[i-1] = (b[i-1] - s)/(A[i-1][i-1])\n",
        "\n",
        "  return x\n",
        "\n",
        "def LUsolve(A,b):\n",
        "  n = np.shape(A)[0]\n",
        "  L,U = lu(A)\n",
        "  y = TriangularInf(L,b)\n",
        "  x = TriangularSup(U,y)\n",
        "  return x\n",
        "\n",
        "A = np.array([[2, -3, -1],[3, 2, -5],[2, 4, -1]])\n",
        "b = [3, -9, -5]\n",
        "LUsolve(A, b)"
      ],
      "metadata": {
        "colab": {
          "base_uri": "https://localhost:8080/"
        },
        "id": "2fe1C2hcspVu",
        "outputId": "475c0806-d687-4838-da21-ce45ed3b7bff"
      },
      "execution_count": null,
      "outputs": [
        {
          "output_type": "stream",
          "name": "stdout",
          "text": [
            "O determinante de A é 49\n"
          ]
        },
        {
          "output_type": "execute_result",
          "data": {
            "text/plain": [
              "[0.653061224489796, -1.1428571428571428, 1.7346938775510203]"
            ]
          },
          "metadata": {},
          "execution_count": 159
        }
      ]
    },
    {
      "cell_type": "markdown",
      "source": [
        "2) Dada a matriz esparsa\n",
        "A =\n",
        "3 −2 1 0 0 0\n",
        "−2 4 −2 1 0 0\n",
        "1 −2 4 −2 1 0\n",
        "0 1 −2 4 −2 1\n",
        "0 0 1 −2 4 −2\n",
        "0 0 0 1 −2 3\n",
        ",\n",
        "resolva o sistema Ax = b, em que b = [10, −8, 10, 10, −8, 10]T utilizando algum dos c´odigos elaborados\n",
        "no exerc´ıcio anterior. Em seguida, resolva este mesmo sistema utilizando algum c´odigo com\n",
        "decomposi¸c˜ao LU. Qual c´odigo foi mais r´apido? Compare os resultados obtidos.\n"
      ],
      "metadata": {
        "id": "EhG_PKEItvDE"
      }
    },
    {
      "cell_type": "code",
      "source": [
        "\n",
        "def gauss_jacobi(A,b,x0,tol,flag):\n",
        "    n = np.shape(A)[0]\n",
        "    D = np.diag(np.diag(A))\n",
        "    aux_C = np.linalg.solve(D,A)\n",
        "    C = np.eye(n) - aux_C\n",
        "    g = np.linalg.solve(D,b)\n",
        "    kmax = 10000\n",
        "    k = 0\n",
        "\n",
        "    error = np.zeros(kmax)\n",
        "    if flag:\n",
        "      statment = (np.linalg.norm(b-A.dot(x0))>tol and k<kmax)\n",
        "    else:\n",
        "      statment = (k<kmax)\n",
        "\n",
        "    while statment:\n",
        "      error[k] = np.linalg.norm(b-A.dot(x0))\n",
        "      k = k+1\n",
        "      x0 = C.dot(x0)+g\n",
        "      if flag:\n",
        "        statment = (np.linalg.norm(b-A.dot(x0))>tol and k<kmax)\n",
        "      else:\n",
        "        statment = (k<kmax)\n",
        "\n",
        "    if (k == kmax and flag):\n",
        "      print('\\nErro: o método não converge.\\n')\n",
        "\n",
        "    x = x0;\n",
        "    return x,k,error"
      ],
      "metadata": {
        "id": "VhoinpHCt2uV"
      },
      "execution_count": null,
      "outputs": []
    },
    {
      "cell_type": "code",
      "source": [
        "\n",
        "def lu(A):\n",
        "\n",
        "    # Garantindo que a operação não continue caso a matriz não seja quadrada\n",
        "    if not A.shape[0]==A.shape[1]:\n",
        "        raise ValueError(\"Input matrix must be square\")\n",
        "\n",
        "    # Se a matriz for quadrada, teremos\n",
        "\n",
        "    n = A.shape[0] # Calculando o tamanho da matriz\n",
        "\n",
        "    # Criando duas matrizes de zeros do tamanho de A\n",
        "    L = np.zeros((n,n),dtype='float64')\n",
        "    U = np.zeros((n,n),dtype='float64')\n",
        "    U[:] = A # Inserindo A em U\n",
        "    np.fill_diagonal(L,1) # Colocando 1 na diagonal principal de L\n",
        "\n",
        "    for i in range(n-1):\n",
        "        for j in range(i+1,n):\n",
        "            L[j,i] = U[j,i]/U[i,i] # Inserindo os elementos abaixo da diagonal principal de L\n",
        "            U[j,i:] = U[j,i:]-L[j,i]*U[i,i:] # Inserindo os elemento que irão compor a matriz U\n",
        "            U[j,i] = 0 # Inserindo 0 abaixo da diagonal principal de U\n",
        "    det = np.linalg.det(L@U) # Calculando o determinante de A na decomposição LU\n",
        "    print('O determinante de A é', round(det))\n",
        "    return (L,U)\n",
        "\n",
        "def TriangularInf(A, b):\n",
        "  n = len(b)\n",
        "  x = [0]*n # Matriz nula com comprimento n\n",
        "  x[0] = b[0]/A[0][0]\n",
        "\n",
        "  for i in list(range(1, n, 1)):\n",
        "    s = 0\n",
        "    for j in list(range(0, i, 1)):\n",
        "      s = s + A[i][j]*x[j]\n",
        "\n",
        "    x[i] = (b[i] - s)/(A[i][i])\n",
        "\n",
        "  return x\n",
        "\n",
        "def TriangularSup(A, b):\n",
        "  n = len(b)\n",
        "  x = [0]*n\n",
        "  x[n-1] = b[n-1]/A[n-1][n-1]\n",
        "\n",
        "  for i in list(range(n - 1, 0, -1)):\n",
        "    s = 0\n",
        "    for j in list(range(i+1, n+1, 1)):\n",
        "      s = s + A[i-1][j-1]*x[j-1]\n",
        "\n",
        "    x[i-1] = (b[i-1] - s)/(A[i-1][i-1])\n",
        "\n",
        "  return x\n",
        "\n",
        "def LUsolve(A,b):\n",
        "  n = np.shape(A)[0]\n",
        "  L,U = lu(A)\n",
        "  y = TriangularInf(L,b)\n",
        "  x = TriangularSup(U,y)\n",
        "  return x"
      ],
      "metadata": {
        "id": "QTsVWETNu0Oa"
      },
      "execution_count": null,
      "outputs": []
    },
    {
      "cell_type": "code",
      "source": [
        "import time\n",
        "\n",
        "A = np.array([[3, -2, 1, 0, 0, 0],\n",
        "              [-2, 4, -2, 1, 0, 0],\n",
        "              [1, -2, 4, -2, 1, 0],\n",
        "              [0, 1, -2, 4, -2, 1],\n",
        "              [0, 0, 1, -2, 4, -2],\n",
        "              [0, 0, 0, 1, -2, 4]])\n",
        "b = [10, -8, 10, 10, -8, 10]\n",
        "\n",
        "start = time.time()\n",
        "LUsolve(A, b)\n",
        "end = time.time()\n",
        "print('O método direto levou', end - start, 'segundos')\n",
        "\n",
        "tol = 0.00000001\n",
        "n = np.shape(A)[0]\n",
        "x0 = np.zeros(n)\n",
        "start = time.time()\n",
        "gauss_jacobi(A,b,x0,tol,1)\n",
        "end = time.time()\n",
        "print('O método iterativo Gauss-Jacobi levou', end - start, 'segundos')\n",
        "\n",
        "start = time.time()\n",
        "gauss_seidel(A,b,x0,tol,1)\n",
        "end = time.time()\n",
        "print('O método iterativo Gauss-Seidel levou', end - start, 'segundos')\n"
      ],
      "metadata": {
        "colab": {
          "base_uri": "https://localhost:8080/"
        },
        "id": "LToaAVR6unrx",
        "outputId": "77ee57a1-c861-4d92-ae27-6b9a14927c6e"
      },
      "execution_count": null,
      "outputs": [
        {
          "output_type": "stream",
          "name": "stdout",
          "text": [
            "O determinante de A é 576\n",
            "O método direto levou 0.0007605552673339844 segundos\n",
            "O método iterativo Gauss-Jacobi levou 0.17104411125183105 segundos\n",
            "O método iterativo Gauss-Seidel levou 0.006398200988769531 segundos\n"
          ]
        }
      ]
    },
    {
      "cell_type": "code",
      "source": [
        "# Método direto\n",
        "import numpy as np\n",
        "\n",
        "def lu(A):\n",
        "\n",
        "    # Garantindo que a operação não continue caso a matriz não seja quadrada\n",
        "    if not A.shape[0]==A.shape[1]:\n",
        "        raise ValueError(\"Input matrix must be square\")\n",
        "\n",
        "    # Se a matriz for quadrada, teremos\n",
        "\n",
        "    n = A.shape[0] # Calculando o tamanho da matriz\n",
        "\n",
        "    # Criando duas matrizes de zeros do tamanho de A\n",
        "    L = np.zeros((n,n),dtype='float64')\n",
        "    U = np.zeros((n,n),dtype='float64')\n",
        "    U[:] = A # Inserindo A em U\n",
        "    np.fill_diagonal(L,1) # Colocando 1 na diagonal principal de L\n",
        "\n",
        "    for i in range(n-1):\n",
        "        for j in range(i+1,n):\n",
        "            L[j,i] = U[j,i]/U[i,i] # Inserindo os elementos abaixo da diagonal principal de L\n",
        "            U[j,i:] = U[j,i:]-L[j,i]*U[i,i:] # Inserindo os elemento que irão compor a matriz U\n",
        "            U[j,i] = 0 # Inserindo 0 abaixo da diagonal principal de U\n",
        "    det = np.linalg.det(L@U) # Calculando o determinante de A na decomposição LU\n",
        "    print('O determinante de A é', round(det))\n",
        "    return (L,U)\n",
        "\n",
        "A = np.array([[-1, 2, -2, 1],[-2, 2, -3, 0],[-2, 0, -1, -3],[-2, 0, 0, -2]])\n",
        "lu(A)"
      ],
      "metadata": {
        "colab": {
          "base_uri": "https://localhost:8080/"
        },
        "id": "o8ThjlCu_FT2",
        "outputId": "c19dba65-7b80-4627-e4b2-8db9e4d7450c"
      },
      "execution_count": null,
      "outputs": [
        {
          "output_type": "stream",
          "name": "stdout",
          "text": [
            "O determinante de A é 4\n"
          ]
        },
        {
          "output_type": "execute_result",
          "data": {
            "text/plain": [
              "(array([[1., 0., 0., 0.],\n",
              "        [2., 1., 0., 0.],\n",
              "        [2., 2., 1., 0.],\n",
              "        [2., 2., 2., 1.]]),\n",
              " array([[-1.,  2., -2.,  1.],\n",
              "        [ 0., -2.,  1., -2.],\n",
              "        [ 0.,  0.,  1., -1.],\n",
              "        [ 0.,  0.,  0.,  2.]]))"
            ]
          },
          "metadata": {},
          "execution_count": 2
        }
      ]
    }
  ]
}