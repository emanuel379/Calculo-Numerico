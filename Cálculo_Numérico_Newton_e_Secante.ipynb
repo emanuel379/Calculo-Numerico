{
  "nbformat": 4,
  "nbformat_minor": 0,
  "metadata": {
    "colab": {
      "provenance": [],
      "authorship_tag": "ABX9TyORFnRr2vuB7zdObFIrShHf",
      "include_colab_link": true
    },
    "kernelspec": {
      "name": "python3",
      "display_name": "Python 3"
    },
    "language_info": {
      "name": "python"
    }
  },
  "cells": [
    {
      "cell_type": "markdown",
      "metadata": {
        "id": "view-in-github",
        "colab_type": "text"
      },
      "source": [
        "<a href=\"https://colab.research.google.com/github/emanuel379/Calculo-Numerico/blob/main/C%C3%A1lculo_Num%C3%A9rico_Newton_e_Secante.ipynb\" target=\"_parent\"><img src=\"https://colab.research.google.com/assets/colab-badge.svg\" alt=\"Open In Colab\"/></a>"
      ]
    },
    {
      "cell_type": "markdown",
      "source": [
        "1) Dadas as fun¸c˜oes a seguir, responda:\n",
        "\n",
        "f(x) = x3 − 10x2 + 5, no intervalo (0.6, 0.8)\n",
        "\n",
        "f(x) = x − tan(x), no intervalo (0, 20)\n",
        "\n",
        "a) Escreva um c´odigo implementando o m´etodo da bisse¸c˜ao e em seguida execute este c´odigo para encontrar\n",
        "o zero dessas fun¸c˜oes.\n",
        "\n",
        "b) Implemente o m´etodo de Newton para encontrar zero de fun¸c˜oes e em seguida, usando um chute inicial\n",
        "gerado por uma itera¸c˜ao do m´etodo da bisse¸c˜ao, encontre o zero dessas fun¸c˜oes.\n",
        "\n",
        "c) Escreva um c´odigo implementando o m´etodo da secante para zero de fun¸c˜oes, usando duas itera¸c˜oes do\n",
        "m´etodo da bisse¸c˜ao para fornecer os dois primeiros chutes iniciais necess´arios, encontre o zero dessas\n",
        "fun¸c˜oes.\n",
        "\n",
        "d) Compare as solu¸c˜oes encontradas."
      ],
      "metadata": {
        "id": "lG5sbcx8dwkP"
      }
    },
    {
      "cell_type": "code",
      "source": [
        "# a\n",
        "\n",
        "import numpy as np\n",
        "from scipy import linalg as LA\n",
        "import scipy as spy\n",
        "import math as m\n",
        "import matplotlib.pyplot as plt\n",
        "\n",
        "def bissecao(func,a,b,x0,tol,flag_parada):\n",
        "    x = x0; erro = np.inf\n",
        "    k = 0; kmax = 1000\n",
        "\n",
        "    while(erro > tol and k < kmax):\n",
        "       k = k + 1\n",
        "       if(func(a)*func(x) < 0):\n",
        "             b = x\n",
        "       else:\n",
        "             a = x\n",
        "\n",
        "       x0 = x\n",
        "       x = (a+b)/2\n",
        "\n",
        "       # cálculo do erro vai depender do critério de parada escolhido\n",
        "       if(flag_parada == 0):\n",
        "              erro = abs(x-x0) # abs retorna o valor absoluto( em módulo)\n",
        "       elif(flag_parada == 1):\n",
        "              erro = abs(x-x0)/abs(x)\n",
        "       else:\n",
        "              erro = abs(func(x))\n",
        "\n",
        "    return x, k\n",
        "\n",
        "f = lambda x: x**3 - 10*x**2 + 5\n",
        "a = 0.6; b = 0.8; tol = 1e-10\n",
        "x0 = (a+b)/2\n",
        "\n",
        "print('Bissecção - Usando o critério de parada do erro absoluto:')\n",
        "flag_parada = 0\n",
        "(x_0,k) = bissecao(f,a,b,x0,tol,flag_parada)\n",
        "print('O zero da função é %.6f, foram usadas %d iterações\\n' %(x_0,k))\n",
        "\n",
        "print('Bissecção - Usando o critério de parada do erro relativo:')\n",
        "flag_parada = 1\n",
        "(x_1,k) = bissecao(f,a,b,x0,tol,flag_parada)\n",
        "print('O zero da função é %.6f, foram usadas %d iterações\\n' %(x_1,k))\n",
        "\n",
        "print('Bissecção - Usando o critério de parada do resíduo:')\n",
        "flag_parada = 2\n",
        "(x_2,k) = bissecao(f,a,b,x0,tol,flag_parada)\n",
        "print('O zero da função é %.6f, foram usadas %d iterações\\n' %(x_2,k))"
      ],
      "metadata": {
        "colab": {
          "base_uri": "https://localhost:8080/"
        },
        "id": "X6yLGLE3gZwW",
        "outputId": "26c7404c-a8c1-498a-b3e8-9a96cf68aedf"
      },
      "execution_count": null,
      "outputs": [
        {
          "output_type": "stream",
          "name": "stdout",
          "text": [
            "Bissecção - Usando o critério de parada do erro absoluto:\n",
            "O zero da função é 0.734604, foram usadas 30 iterações\n",
            "\n",
            "Bissecção - Usando o critério de parada do erro relativo:\n",
            "O zero da função é 0.734604, foram usadas 31 iterações\n",
            "\n",
            "Bissecção - Usando o critério de parada do resíduo:\n",
            "O zero da função é 0.734604, foram usadas 32 iterações\n",
            "\n"
          ]
        }
      ]
    },
    {
      "cell_type": "code",
      "source": [
        "import numpy as np\n",
        "from scipy import linalg as LA\n",
        "import scipy as spy\n",
        "import math as m\n",
        "import matplotlib.pyplot as plt\n",
        "\n",
        "def bissecao(func,a,b,x0,tol,flag_parada):\n",
        "    x = x0; erro = np.inf\n",
        "    k = 0; kmax = 1000\n",
        "\n",
        "    while(erro > tol and k < kmax):\n",
        "       k = k + 1\n",
        "       if(func(a)*func(x) < 0):\n",
        "             b = x\n",
        "       else:\n",
        "             a = x\n",
        "\n",
        "       x0 = x\n",
        "       x = (a+b)/2\n",
        "\n",
        "       # cálculo do erro vai depender do critério de parada escolhido\n",
        "       if(flag_parada == 0):\n",
        "              erro = abs(x-x0) # abs retorna o valor absoluto( em módulo)\n",
        "       elif(flag_parada == 1):\n",
        "              erro = abs(x-x0)/abs(x)\n",
        "       else:\n",
        "              erro = abs(func(x))\n",
        "\n",
        "    return x, k\n",
        "\n",
        "f = lambda x: x - m.tan(x)\n",
        "a = -1; b = 1.2; tol = 1e-10\n",
        "x0 = (a+b)/2\n",
        "\n",
        "print('Bissecção - Usando o critério de parada do erro absoluto:')\n",
        "flag_parada = 0\n",
        "(x_0,k) = bissecao(f,a,b,x0,tol,flag_parada)\n",
        "print('O zero da função é %.6f, foram usadas %d iterações\\n' %(x_0,k))\n",
        "\n",
        "print('Bissecção - Usando o critério de parada do erro relativo:')\n",
        "flag_parada = 1\n",
        "(x_1,k) = bissecao(f,a,b,x0,tol,flag_parada)\n",
        "print('O zero da função é %.6f, foram usadas %d iterações\\n' %(x_1,k))\n",
        "\n",
        "print('Bissecção - Usando o critério de parada do resíduo:')\n",
        "flag_parada = 2\n",
        "(x_2,k) = bissecao(f,a,b,x0,tol,flag_parada)\n",
        "print('O zero da função é %.6f, foram usadas %d iterações\\n' %(x_2,k))"
      ],
      "metadata": {
        "colab": {
          "base_uri": "https://localhost:8080/"
        },
        "id": "z56XQRi_g9ed",
        "outputId": "88c36736-21d9-4503-d43d-f3003d61e93b"
      },
      "execution_count": null,
      "outputs": [
        {
          "output_type": "stream",
          "name": "stdout",
          "text": [
            "Bissecção - Usando o critério de parada do erro absoluto:\n",
            "O zero da função é 0.000000, foram usadas 34 iterações\n",
            "\n",
            "Bissecção - Usando o critério de parada do erro relativo:\n",
            "O zero da função é 0.000000, foram usadas 59 iterações\n",
            "\n",
            "Bissecção - Usando o critério de parada do resíduo:\n",
            "O zero da função é 0.000098, foram usadas 10 iterações\n",
            "\n"
          ]
        }
      ]
    },
    {
      "cell_type": "code",
      "source": [
        "# b\n",
        "\n",
        "# Gerando uma iteração da bisseção\n",
        "\n",
        "import numpy as np\n",
        "from scipy import linalg as LA\n",
        "import scipy as spy\n",
        "import math as m\n",
        "import matplotlib.pyplot as plt\n",
        "\n",
        "def bissecao(func,a,b,x0,tol,flag_parada):\n",
        "    x = x0; erro = np.inf\n",
        "    k = 0; kmax = 0\n",
        "\n",
        "    while(erro > tol and k < kmax):\n",
        "       k = k + 1\n",
        "       if(func(a)*func(x) < 0):\n",
        "             b = x\n",
        "       else:\n",
        "             a = x\n",
        "\n",
        "       x0 = x\n",
        "       x = (a+b)/2\n",
        "\n",
        "       # cálculo do erro vai depender do critério de parada escolhido\n",
        "       if(flag_parada == 0):\n",
        "              erro = abs(x-x0) # abs retorna o valor absoluto( em módulo)\n",
        "       elif(flag_parada == 1):\n",
        "              erro = abs(x-x0)/abs(x)\n",
        "       else:\n",
        "              erro = abs(func(x))\n",
        "\n",
        "    return x, k\n",
        "\n",
        "f = lambda x: x**3 - 10*x**2 + 5\n",
        "a = 0.6; b = 0.8; tol = 1e-10\n",
        "x0 = (a+b)/2\n",
        "\n",
        "print('Bissecção - Usando o critério de parada do erro absoluto:')\n",
        "flag_parada = 0\n",
        "(x_0,k) = bissecao(f,a,b,x0,tol,flag_parada)\n",
        "print('O zero da função é %.6f, foram usadas %d iterações\\n' %(x_0,k))\n",
        "\n",
        "print('Bissecção - Usando o critério de parada do erro relativo:')\n",
        "flag_parada = 1\n",
        "(x_1,k) = bissecao(f,a,b,x0,tol,flag_parada)\n",
        "print('O zero da função é %.6f, foram usadas %d iterações\\n' %(x_1,k))\n",
        "\n",
        "print('Bissecção - Usando o critério de parada do resíduo:')\n",
        "flag_parada = 2\n",
        "(x_2,k) = bissecao(f,a,b,x0,tol,flag_parada)\n",
        "print('O zero da função é %.6f, foram usadas %d iterações\\n' %(x_2,k))"
      ],
      "metadata": {
        "colab": {
          "base_uri": "https://localhost:8080/"
        },
        "id": "X-tsrj7FeEfe",
        "outputId": "58c523f0-4a7b-434d-ae19-837aa2be2c0c"
      },
      "execution_count": null,
      "outputs": [
        {
          "output_type": "stream",
          "name": "stdout",
          "text": [
            "Bissecção - Usando o critério de parada do erro absoluto:\n",
            "O zero da função é 0.700000, foram usadas 0 iterações\n",
            "\n",
            "Bissecção - Usando o critério de parada do erro relativo:\n",
            "O zero da função é 0.700000, foram usadas 0 iterações\n",
            "\n",
            "Bissecção - Usando o critério de parada do resíduo:\n",
            "O zero da função é 0.700000, foram usadas 0 iterações\n",
            "\n"
          ]
        }
      ]
    },
    {
      "cell_type": "code",
      "execution_count": null,
      "metadata": {
        "colab": {
          "base_uri": "https://localhost:8080/"
        },
        "id": "N-hytnJJdTCA",
        "outputId": "7d5e38ba-c07f-471f-9841-1fd631dab80c"
      },
      "outputs": [
        {
          "output_type": "stream",
          "name": "stdout",
          "text": [
            "Newton - Usando o critério de parada do erro absoluto:\n",
            "O zero da função é 0.734604, foram usadas 5 iterações\n",
            "\n"
          ]
        }
      ],
      "source": [
        "import numpy as np\n",
        "from scipy import linalg as lin\n",
        "import scipy as sci\n",
        "import math as m\n",
        "import matplotlib.pyplot as plt\n",
        "\n",
        "def newton(func,dfunc,x0,tol,flag_parada):\n",
        "    x = x0; erro = np.inf\n",
        "    k = 0; kmax = 1000\n",
        "\n",
        "    while(erro > tol and k < kmax):\n",
        "       k = k + 1\n",
        "       x0 = x\n",
        "       dx = func(x)/dfunc(x)\n",
        "       x = x - dx\n",
        "\n",
        "       # cálculo do erro vai depender do critério de parada escolhido\n",
        "       if(flag_parada == 0):\n",
        "           erro = abs(x-x0)\n",
        "       elif(flag_parada == 1):\n",
        "           erro = abs(x-x0)/abs(x)\n",
        "       else:\n",
        "           erro = abs(func(x))\n",
        "\n",
        "    return x, k\n",
        "\n",
        "f = lambda x: x**3 - 10*x**2 + 5\n",
        "df = lambda x: 3*x**2 - 20*x\n",
        "x0 = 0.7; tol = 1e-10\n",
        "\n",
        "print('Newton - Usando o critério de parada do erro absoluto:')\n",
        "flag_parada = 0\n",
        "(x_1,k) = newton(f,df,x0,tol,flag_parada)\n",
        "print('O zero da função é %.6f, foram usadas %d iterações\\n' %(x_1,k))"
      ]
    },
    {
      "cell_type": "code",
      "source": [
        "# Gerando uma iteração da bisseção\n",
        "\n",
        "import numpy as np\n",
        "from scipy import linalg as LA\n",
        "import scipy as spy\n",
        "import math as m\n",
        "import matplotlib.pyplot as plt\n",
        "\n",
        "def bissecao(func,a,b,x0,tol,flag_parada):\n",
        "    x = x0; erro = np.inf\n",
        "    k = 0; kmax = 0\n",
        "\n",
        "    while(erro > tol and k < kmax):\n",
        "       k = k + 1\n",
        "       if(func(a)*func(x) < 0):\n",
        "             b = x\n",
        "       else:\n",
        "             a = x\n",
        "\n",
        "       x0 = x\n",
        "       x = (a+b)/2\n",
        "\n",
        "       # cálculo do erro vai depender do critério de parada escolhido\n",
        "       if(flag_parada == 0):\n",
        "              erro = abs(x-x0) # abs retorna o valor absoluto( em módulo)\n",
        "       elif(flag_parada == 1):\n",
        "              erro = abs(x-x0)/abs(x)\n",
        "       else:\n",
        "              erro = abs(func(x))\n",
        "\n",
        "    return x, k\n",
        "\n",
        "f = lambda x: x - m.tan(x)\n",
        "a = -1; b = 1.2; tol = 1e-10\n",
        "x0 = (a+b)/2\n",
        "\n",
        "print('Bissecção - Usando o critério de parada do erro absoluto:')\n",
        "flag_parada = 0\n",
        "(x_0,k) = bissecao(f,a,b,x0,tol,flag_parada)\n",
        "print('O zero da função é %.6f, foram usadas %d iterações\\n' %(x_0,k))\n",
        "\n",
        "print('Bissecção - Usando o critério de parada do erro relativo:')\n",
        "flag_parada = 1\n",
        "(x_1,k) = bissecao(f,a,b,x0,tol,flag_parada)\n",
        "print('O zero da função é %.6f, foram usadas %d iterações\\n' %(x_1,k))\n",
        "\n",
        "print('Bissecção - Usando o critério de parada do resíduo:')\n",
        "flag_parada = 2\n",
        "(x_2,k) = bissecao(f,a,b,x0,tol,flag_parada)\n",
        "print('O zero da função é %.6f, foram usadas %d iterações\\n' %(x_2,k))"
      ],
      "metadata": {
        "colab": {
          "base_uri": "https://localhost:8080/"
        },
        "id": "KyESnPH7jMnY",
        "outputId": "89456f20-60a9-455f-f465-936f11ad94c8"
      },
      "execution_count": null,
      "outputs": [
        {
          "output_type": "stream",
          "name": "stdout",
          "text": [
            "Bissecção - Usando o critério de parada do erro absoluto:\n",
            "O zero da função é 0.100000, foram usadas 0 iterações\n",
            "\n",
            "Bissecção - Usando o critério de parada do erro relativo:\n",
            "O zero da função é 0.100000, foram usadas 0 iterações\n",
            "\n",
            "Bissecção - Usando o critério de parada do resíduo:\n",
            "O zero da função é 0.100000, foram usadas 0 iterações\n",
            "\n"
          ]
        }
      ]
    },
    {
      "cell_type": "code",
      "source": [
        "import numpy as np\n",
        "from scipy import linalg as lin\n",
        "import scipy as sci\n",
        "import math as m\n",
        "import matplotlib.pyplot as plt\n",
        "from sympy import sec\n",
        "\n",
        "def newton(func,dfunc,x0,tol,flag_parada):\n",
        "    x = x0; erro = np.inf\n",
        "    k = 0; kmax = 1000\n",
        "\n",
        "    while(erro > tol and k < kmax):\n",
        "       k = k + 1\n",
        "       x0 = x\n",
        "       dx = func(x)/dfunc(x)\n",
        "       x = x - dx\n",
        "\n",
        "       # cálculo do erro vai depender do critério de parada escolhido\n",
        "       if(flag_parada == 0):\n",
        "           erro = abs(x-x0)\n",
        "       elif(flag_parada == 1):\n",
        "           erro = abs(x-x0)/abs(x)\n",
        "       else:\n",
        "           erro = abs(func(x))\n",
        "\n",
        "    return x, k\n",
        "\n",
        "f = lambda x: x - m.tan(x)\n",
        "df = lambda x: 1 - sec(x)**2\n",
        "x0 = 0.1; tol = 1e-8\n",
        "\n",
        "print('Newton - Usando o critério de parada do erro absoluto:')\n",
        "flag_parada = 0\n",
        "(x_1,k) = newton(f,df,x0,tol,flag_parada)\n",
        "print('O zero da função é %.6f, foram usadas %d iterações\\n' %(x_1,k))"
      ],
      "metadata": {
        "colab": {
          "base_uri": "https://localhost:8080/"
        },
        "id": "UCtJGooOiqGz",
        "outputId": "9b815a4a-0837-42e0-960b-55163a18921e"
      },
      "execution_count": null,
      "outputs": [
        {
          "output_type": "stream",
          "name": "stdout",
          "text": [
            "Newton - Usando o critério de parada do erro absoluto:\n",
            "O zero da função é 0.000000, foram usadas 39 iterações\n",
            "\n"
          ]
        }
      ]
    },
    {
      "cell_type": "code",
      "source": [
        "# c\n",
        "\n",
        "# Gerando uma iteração da bisseção\n",
        "\n",
        "import numpy as np\n",
        "from scipy import linalg as LA\n",
        "import scipy as spy\n",
        "import math as m\n",
        "import matplotlib.pyplot as plt\n",
        "\n",
        "def bissecao(func,a,b,x0,tol,flag_parada):\n",
        "    x = x0; erro = np.inf\n",
        "    k = 0; kmax = 0\n",
        "\n",
        "    while(erro > tol and k < kmax):\n",
        "       k = k + 1\n",
        "       if(func(a)*func(x) < 0):\n",
        "             b = x\n",
        "       else:\n",
        "             a = x\n",
        "\n",
        "       x0 = x\n",
        "       x = (a+b)/2\n",
        "\n",
        "       # cálculo do erro vai depender do critério de parada escolhido\n",
        "       if(flag_parada == 0):\n",
        "              erro = abs(x-x0) # abs retorna o valor absoluto( em módulo)\n",
        "       elif(flag_parada == 1):\n",
        "              erro = abs(x-x0)/abs(x)\n",
        "       else:\n",
        "              erro = abs(func(x))\n",
        "\n",
        "    return x, k\n",
        "\n",
        "f = lambda x: x**3 - 10*x**2 + 5\n",
        "a = 0.6; b = 0.8; tol = 1e-10\n",
        "x0 = (a+b)/2\n",
        "\n",
        "print('Bissecção - Usando o critério de parada do erro absoluto:')\n",
        "flag_parada = 0\n",
        "(x_0,k) = bissecao(f,a,b,x0,tol,flag_parada)\n",
        "print('O zero da função é %.6f, foram usadas %d iterações\\n' %(x_0,k))\n",
        "\n",
        "print('Bissecção - Usando o critério de parada do erro relativo:')\n",
        "flag_parada = 1\n",
        "(x_1,k) = bissecao(f,a,b,x0,tol,flag_parada)\n",
        "print('O zero da função é %.6f, foram usadas %d iterações\\n' %(x_1,k))\n",
        "\n",
        "print('Bissecção - Usando o critério de parada do resíduo:')\n",
        "flag_parada = 2\n",
        "(x_2,k) = bissecao(f,a,b,x0,tol,flag_parada)\n",
        "print('O zero da função é %.6f, foram usadas %d iterações\\n' %(x_2,k))"
      ],
      "metadata": {
        "colab": {
          "base_uri": "https://localhost:8080/"
        },
        "id": "umbf1YYKkobd",
        "outputId": "075615ab-53c7-47b8-eee4-695bb873bdc5"
      },
      "execution_count": null,
      "outputs": [
        {
          "output_type": "stream",
          "name": "stdout",
          "text": [
            "Bissecção - Usando o critério de parada do erro absoluto:\n",
            "O zero da função é 0.700000, foram usadas 0 iterações\n",
            "\n",
            "Bissecção - Usando o critério de parada do erro relativo:\n",
            "O zero da função é 0.700000, foram usadas 0 iterações\n",
            "\n",
            "Bissecção - Usando o critério de parada do resíduo:\n",
            "O zero da função é 0.700000, foram usadas 0 iterações\n",
            "\n"
          ]
        }
      ]
    },
    {
      "cell_type": "code",
      "source": [
        "# Gerando a segunda iteração da bisseção\n",
        "\n",
        "import numpy as np\n",
        "from scipy import linalg as LA\n",
        "import scipy as spy\n",
        "import math as m\n",
        "import matplotlib.pyplot as plt\n",
        "\n",
        "def bissecao(func,a,b,x0,tol,flag_parada):\n",
        "    x = x0; erro = np.inf\n",
        "    k = 0; kmax = 1\n",
        "\n",
        "    while(erro > tol and k < kmax):\n",
        "       k = k + 1\n",
        "       if(func(a)*func(x) < 0):\n",
        "             b = x\n",
        "       else:\n",
        "             a = x\n",
        "\n",
        "       x0 = x\n",
        "       x = (a+b)/2\n",
        "\n",
        "       # cálculo do erro vai depender do critério de parada escolhido\n",
        "       if(flag_parada == 0):\n",
        "              erro = abs(x-x0) # abs retorna o valor absoluto( em módulo)\n",
        "       elif(flag_parada == 1):\n",
        "              erro = abs(x-x0)/abs(x)\n",
        "       else:\n",
        "              erro = abs(func(x))\n",
        "\n",
        "    return x, k\n",
        "\n",
        "f = lambda x: x**3 - 10*x**2 + 5\n",
        "a = 0.6; b = 0.8; tol = 1e-10\n",
        "x0 = (a+b)/2\n",
        "\n",
        "print('Bissecção - Usando o critério de parada do erro absoluto:')\n",
        "flag_parada = 0\n",
        "(x_0,k) = bissecao(f,a,b,x0,tol,flag_parada)\n",
        "print('O zero da função é %.6f, foram usadas %d iterações\\n' %(x_0,k))\n",
        "\n",
        "print('Bissecção - Usando o critério de parada do erro relativo:')\n",
        "flag_parada = 1\n",
        "(x_1,k) = bissecao(f,a,b,x0,tol,flag_parada)\n",
        "print('O zero da função é %.6f, foram usadas %d iterações\\n' %(x_1,k))\n",
        "\n",
        "print('Bissecção - Usando o critério de parada do resíduo:')\n",
        "flag_parada = 2\n",
        "(x_2,k) = bissecao(f,a,b,x0,tol,flag_parada)\n",
        "print('O zero da função é %.6f, foram usadas %d iterações\\n' %(x_2,k))"
      ],
      "metadata": {
        "colab": {
          "base_uri": "https://localhost:8080/"
        },
        "id": "C6NbMHKZqfOD",
        "outputId": "46a4f791-328d-4953-85a3-5c718f20a778"
      },
      "execution_count": null,
      "outputs": [
        {
          "output_type": "stream",
          "name": "stdout",
          "text": [
            "Bissecção - Usando o critério de parada do erro absoluto:\n",
            "O zero da função é 0.750000, foram usadas 1 iterações\n",
            "\n",
            "Bissecção - Usando o critério de parada do erro relativo:\n",
            "O zero da função é 0.750000, foram usadas 1 iterações\n",
            "\n",
            "Bissecção - Usando o critério de parada do resíduo:\n",
            "O zero da função é 0.750000, foram usadas 1 iterações\n",
            "\n"
          ]
        }
      ]
    },
    {
      "cell_type": "code",
      "source": [
        "def secante(func,x0,x1,tol,flag_parada):\n",
        "    erro =  np.inf\n",
        "    k = 0; kmax = 1000\n",
        "    x = x1\n",
        "\n",
        "    while(erro > tol and k < kmax):\n",
        "        k = k + 1\n",
        "        f0 = func(x0)\n",
        "        f1 = func(x)\n",
        "        ds = f1*(x-x0)/(f1-f0)\n",
        "        x0 = x\n",
        "        x = x - ds\n",
        "\n",
        "        # cálculo do erro vai depender do critério de parada escolhido\\n\",\n",
        "        if(flag_parada == 0):\n",
        "           erro = abs(x-x0)\n",
        "        elif(flag_parada == 1):\n",
        "           erro = abs(x-x0)/abs(x)\n",
        "        else:\n",
        "           erro = abs(func(x))\n",
        "\n",
        "    return x, k\n",
        "\n",
        "f = lambda x: x**3 - 10*x**2 + 5\n",
        "x0 = 0.7; tol = 1e-10\n",
        "x1 = 0.75\n",
        "\n",
        "print('Secante - Usando o critério de parada do erro absoluto:')\n",
        "flag_parada = 0\n",
        "(x_1,k) = secante(f,x0,x1,tol,flag_parada)\n",
        "print('O zero da função é %.6f, foram usadas %d iterações\\n' %(x_1,k))"
      ],
      "metadata": {
        "colab": {
          "base_uri": "https://localhost:8080/"
        },
        "id": "-bCoum_Krs0D",
        "outputId": "8f3b4467-41bd-45b4-d01c-306a81154e49"
      },
      "execution_count": null,
      "outputs": [
        {
          "output_type": "stream",
          "name": "stdout",
          "text": [
            "Secante - Usando o critério de parada do erro absoluto:\n",
            "O zero da função é 0.734604, foram usadas 5 iterações\n",
            "\n"
          ]
        }
      ]
    },
    {
      "cell_type": "code",
      "source": [
        "# Gerando uma iteração da bisseção\n",
        "\n",
        "import numpy as np\n",
        "from scipy import linalg as LA\n",
        "import scipy as spy\n",
        "import math as m\n",
        "import matplotlib.pyplot as plt\n",
        "\n",
        "def bissecao(func,a,b,x0,tol,flag_parada):\n",
        "    x = x0; erro = np.inf\n",
        "    k = 0; kmax = 0\n",
        "\n",
        "    while(erro > tol and k < kmax):\n",
        "       k = k + 1\n",
        "       if(func(a)*func(x) < 0):\n",
        "             b = x\n",
        "       else:\n",
        "             a = x\n",
        "\n",
        "       x0 = x\n",
        "       x = (a+b)/2\n",
        "\n",
        "       # cálculo do erro vai depender do critério de parada escolhido\n",
        "       if(flag_parada == 0):\n",
        "              erro = abs(x-x0) # abs retorna o valor absoluto( em módulo)\n",
        "       elif(flag_parada == 1):\n",
        "              erro = abs(x-x0)/abs(x)\n",
        "       else:\n",
        "              erro = abs(func(x))\n",
        "\n",
        "    return x, k\n",
        "\n",
        "f = lambda x: x - m.tan(x)\n",
        "a = -1; b = 1.2; tol = 1e-10\n",
        "x0 = (a+b)/2\n",
        "\n",
        "print('Bissecção - Usando o critério de parada do erro absoluto:')\n",
        "flag_parada = 0\n",
        "(x_0,k) = bissecao(f,a,b,x0,tol,flag_parada)\n",
        "print('O zero da função é %.6f, foram usadas %d iterações\\n' %(x_0,k))\n",
        "\n",
        "print('Bissecção - Usando o critério de parada do erro relativo:')\n",
        "flag_parada = 1\n",
        "(x_1,k) = bissecao(f,a,b,x0,tol,flag_parada)\n",
        "print('O zero da função é %.6f, foram usadas %d iterações\\n' %(x_1,k))\n",
        "\n",
        "print('Bissecção - Usando o critério de parada do resíduo:')\n",
        "flag_parada = 2\n",
        "(x_2,k) = bissecao(f,a,b,x0,tol,flag_parada)\n",
        "print('O zero da função é %.6f, foram usadas %d iterações\\n' %(x_2,k))"
      ],
      "metadata": {
        "colab": {
          "base_uri": "https://localhost:8080/"
        },
        "id": "D53Zyrnr4BzN",
        "outputId": "35e79ec5-d23b-4635-ef77-f513cc27df37"
      },
      "execution_count": null,
      "outputs": [
        {
          "output_type": "stream",
          "name": "stdout",
          "text": [
            "Bissecção - Usando o critério de parada do erro absoluto:\n",
            "O zero da função é 0.100000, foram usadas 0 iterações\n",
            "\n",
            "Bissecção - Usando o critério de parada do erro relativo:\n",
            "O zero da função é 0.100000, foram usadas 0 iterações\n",
            "\n",
            "Bissecção - Usando o critério de parada do resíduo:\n",
            "O zero da função é 0.100000, foram usadas 0 iterações\n",
            "\n"
          ]
        }
      ]
    },
    {
      "cell_type": "code",
      "source": [
        "# Gerando a segunda iteração da bisseção\n",
        "\n",
        "import numpy as np\n",
        "from scipy import linalg as LA\n",
        "import scipy as spy\n",
        "import math as m\n",
        "import matplotlib.pyplot as plt\n",
        "\n",
        "def bissecao(func,a,b,x0,tol,flag_parada):\n",
        "    x = x0; erro = np.inf\n",
        "    k = 0; kmax = 1\n",
        "\n",
        "    while(erro > tol and k < kmax):\n",
        "       k = k + 1\n",
        "       if(func(a)*func(x) < 0):\n",
        "             b = x\n",
        "       else:\n",
        "             a = x\n",
        "\n",
        "       x0 = x\n",
        "       x = (a+b)/2\n",
        "\n",
        "       # cálculo do erro vai depender do critério de parada escolhido\n",
        "       if(flag_parada == 0):\n",
        "              erro = abs(x-x0) # abs retorna o valor absoluto( em módulo)\n",
        "       elif(flag_parada == 1):\n",
        "              erro = abs(x-x0)/abs(x)\n",
        "       else:\n",
        "              erro = abs(func(x))\n",
        "\n",
        "    return x, k\n",
        "\n",
        "f = lambda x: x - m.tan(x)\n",
        "a = -1; b = 1.2; tol = 1e-10\n",
        "x0 = (a+b)/2\n",
        "\n",
        "print('Bissecção - Usando o critério de parada do erro absoluto:')\n",
        "flag_parada = 0\n",
        "(x_0,k) = bissecao(f,a,b,x0,tol,flag_parada)\n",
        "print('O zero da função é %.6f, foram usadas %d iterações\\n' %(x_0,k))\n",
        "\n",
        "print('Bissecção - Usando o critério de parada do erro relativo:')\n",
        "flag_parada = 1\n",
        "(x_1,k) = bissecao(f,a,b,x0,tol,flag_parada)\n",
        "print('O zero da função é %.6f, foram usadas %d iterações\\n' %(x_1,k))\n",
        "\n",
        "print('Bissecção - Usando o critério de parada do resíduo:')\n",
        "flag_parada = 2\n",
        "(x_2,k) = bissecao(f,a,b,x0,tol,flag_parada)\n",
        "print('O zero da função é %.6f, foram usadas %d iterações\\n' %(x_2,k))"
      ],
      "metadata": {
        "colab": {
          "base_uri": "https://localhost:8080/"
        },
        "id": "dROXs7MU4LH8",
        "outputId": "99676f0d-3e39-4a35-c3bd-0c729099c5d4"
      },
      "execution_count": null,
      "outputs": [
        {
          "output_type": "stream",
          "name": "stdout",
          "text": [
            "Bissecção - Usando o critério de parada do erro absoluto:\n",
            "O zero da função é -0.450000, foram usadas 1 iterações\n",
            "\n",
            "Bissecção - Usando o critério de parada do erro relativo:\n",
            "O zero da função é -0.450000, foram usadas 1 iterações\n",
            "\n",
            "Bissecção - Usando o critério de parada do resíduo:\n",
            "O zero da função é -0.450000, foram usadas 1 iterações\n",
            "\n"
          ]
        }
      ]
    },
    {
      "cell_type": "code",
      "source": [
        "def secante(func,x0,x1,tol,flag_parada):\n",
        "    erro =  np.inf\n",
        "    k = 0; kmax = 1000\n",
        "    x = x1\n",
        "\n",
        "    while(erro > tol and k < kmax):\n",
        "        k = k + 1\n",
        "        f0 = func(x0)\n",
        "        f1 = func(x)\n",
        "        ds = f1*(x-x0)/(f1-f0)\n",
        "        x0 = x\n",
        "        x = x - ds\n",
        "\n",
        "        # cálculo do erro vai depender do critério de parada escolhido\\n\",\n",
        "        if(flag_parada == 0):\n",
        "           erro = abs(x-x0)\n",
        "        elif(flag_parada == 1):\n",
        "           erro = abs(x-x0)/abs(x)\n",
        "        else:\n",
        "           erro = abs(func(x))\n",
        "\n",
        "    return x, k\n",
        "\n",
        "f = lambda x: x - m.tan(x)\n",
        "x0 = 0.1; tol = 1e-10\n",
        "x1 = -0.45\n",
        "\n",
        "print('Secante - Usando o critério de parada do erro absoluto:')\n",
        "flag_parada = 0\n",
        "(x_1,k) = secante(f,x0,x1,tol,flag_parada)\n",
        "print('O zero da função é %.6f, foram usadas %d iterações\\n' %(x_1,k))"
      ],
      "metadata": {
        "colab": {
          "base_uri": "https://localhost:8080/"
        },
        "id": "E4cW92VY4tPu",
        "outputId": "c072a4c9-ca11-4cdd-a9a2-47c9eab7e51d"
      },
      "execution_count": null,
      "outputs": [
        {
          "output_type": "stream",
          "name": "stdout",
          "text": [
            "Secante - Usando o critério de parada do erro absoluto:\n",
            "O zero da função é 0.000000, foram usadas 58 iterações\n",
            "\n"
          ]
        }
      ]
    },
    {
      "cell_type": "code",
      "source": [
        "# d\n",
        "\n",
        "import numpy as np\n",
        "from scipy import linalg as LA\n",
        "import scipy as spy\n",
        "import math as m\n",
        "import matplotlib.pyplot as plt\n",
        "\n",
        "def bissecao(func,a,b,x0,tol,flag_parada):\n",
        "    x = x0; erro = np.inf\n",
        "    k = 0; kmax = 1000\n",
        "\n",
        "    while(erro > tol and k < kmax):\n",
        "       k = k + 1\n",
        "       if(func(a)*func(x) < 0):\n",
        "             b = x\n",
        "       else:\n",
        "             a = x\n",
        "\n",
        "       x0 = x\n",
        "       x = (a+b)/2\n",
        "\n",
        "       # cálculo do erro vai depender do critério de parada escolhido\n",
        "       if(flag_parada == 0):\n",
        "              erro = abs(x-x0) # abs retorna o valor absoluto( em módulo)\n",
        "       elif(flag_parada == 1):\n",
        "              erro = abs(x-x0)/abs(x)\n",
        "       else:\n",
        "              erro = abs(func(x))\n",
        "\n",
        "    return x, k\n",
        "\n",
        "f = lambda x: x**3 - 10*x**2 + 5\n",
        "a = 0.6; b = 0.8; tol = 1e-7\n",
        "x0 = (a+b)/2\n",
        "\n",
        "print('Bissecção - Usando o critério de parada do erro absoluto:')\n",
        "flag_parada = 0\n",
        "(x_b,kb) = bissecao(f,a,b,x0,tol,flag_parada)\n",
        "print('O zero da função é %.6f, foram usadas %d iterações\\n' %(x_b,k))"
      ],
      "metadata": {
        "colab": {
          "base_uri": "https://localhost:8080/"
        },
        "id": "tgN-20iu6-_5",
        "outputId": "9239771b-8de0-41e0-8ad2-21184e092279"
      },
      "execution_count": null,
      "outputs": [
        {
          "output_type": "stream",
          "name": "stdout",
          "text": [
            "Bissecção - Usando o critério de parada do erro absoluto:\n",
            "O zero da função é 0.734604, foram usadas 58 iterações\n",
            "\n"
          ]
        }
      ]
    },
    {
      "cell_type": "code",
      "source": [
        "import numpy as np\n",
        "from scipy import linalg as lin\n",
        "import scipy as sci\n",
        "import math as m\n",
        "import matplotlib.pyplot as plt\n",
        "\n",
        "def newton(func,dfunc,x0,tol,flag_parada):\n",
        "    x = x0; erro = np.inf\n",
        "    k = 0; kmax = 1000\n",
        "\n",
        "    while(erro > tol and k < kmax):\n",
        "       k = k + 1\n",
        "       x0 = x\n",
        "       dx = func(x)/dfunc(x)\n",
        "       x = x - dx\n",
        "\n",
        "       # cálculo do erro vai depender do critério de parada escolhido\n",
        "       if(flag_parada == 0):\n",
        "           erro = abs(x-x0)\n",
        "       elif(flag_parada == 1):\n",
        "           erro = abs(x-x0)/abs(x)\n",
        "       else:\n",
        "           erro = abs(func(x))\n",
        "\n",
        "    return x, k\n",
        "\n",
        "f = lambda x: x**3 - 10*x**2 + 5\n",
        "df = lambda x: 3*x**2 - 20*x\n",
        "x0 = 0.7; tol = 1e-7\n",
        "\n",
        "print('Newton - Usando o critério de parada do erro absoluto:')\n",
        "flag_parada = 0\n",
        "(x_n,kn) = newton(f,df,x0,tol,flag_parada)\n",
        "print('O zero da função é %.6f, foram usadas %d iterações\\n' %(x_n,k))"
      ],
      "metadata": {
        "colab": {
          "base_uri": "https://localhost:8080/"
        },
        "id": "9l8j4HCt7pUT",
        "outputId": "edbe3a88-e40e-4971-9862-717a4cf528bc"
      },
      "execution_count": null,
      "outputs": [
        {
          "output_type": "stream",
          "name": "stdout",
          "text": [
            "Newton - Usando o critério de parada do erro absoluto:\n",
            "O zero da função é 0.734604, foram usadas 58 iterações\n",
            "\n"
          ]
        }
      ]
    },
    {
      "cell_type": "code",
      "source": [
        "def secante(func,x0,x1,tol,flag_parada):\n",
        "    erro =  np.inf\n",
        "    k = 0; kmax = 1000\n",
        "    x = x1\n",
        "\n",
        "    while(erro > tol and k < kmax):\n",
        "        k = k + 1\n",
        "        f0 = func(x0)\n",
        "        f1 = func(x)\n",
        "        ds = f1*(x-x0)/(f1-f0)\n",
        "        x0 = x\n",
        "        x = x - ds\n",
        "\n",
        "        # cálculo do erro vai depender do critério de parada escolhido\\n\",\n",
        "        if(flag_parada == 0):\n",
        "           erro = abs(x-x0)\n",
        "        elif(flag_parada == 1):\n",
        "           erro = abs(x-x0)/abs(x)\n",
        "        else:\n",
        "           erro = abs(func(x))\n",
        "\n",
        "    return x, k\n",
        "\n",
        "f = lambda x: x**3 - 10*x**2 + 5\n",
        "x0 = 0.7; tol = 1e-7\n",
        "x1 = 0.75\n",
        "\n",
        "print('Secante - Usando o critério de parada do erro absoluto:')\n",
        "flag_parada = 0\n",
        "(x_s,ks) = secante(f,x0,x1,tol,flag_parada)\n",
        "print('O zero da função é %.6f, foram usadas %d iterações\\n' %(x_s,k))"
      ],
      "metadata": {
        "colab": {
          "base_uri": "https://localhost:8080/"
        },
        "id": "Xx8TDAK47qf3",
        "outputId": "2750444c-7c7a-4a90-c1b9-f68e5bb6cda8"
      },
      "execution_count": null,
      "outputs": [
        {
          "output_type": "stream",
          "name": "stdout",
          "text": [
            "Secante - Usando o critério de parada do erro absoluto:\n",
            "O zero da função é 0.734604, foram usadas 58 iterações\n",
            "\n"
          ]
        }
      ]
    },
    {
      "cell_type": "code",
      "source": [
        "import numpy as np\n",
        "from scipy import linalg as LA\n",
        "import scipy as spy\n",
        "import math as m\n",
        "import matplotlib.pyplot as plt\n",
        "\n",
        "def bissecao(func,a,b,x0,tol,flag_parada):\n",
        "    x = x0; erro = np.inf\n",
        "    k = 0; kmax = 1000\n",
        "\n",
        "    while(erro > tol and k < kmax):\n",
        "       k = k + 1\n",
        "       if(func(a)*func(x) < 0):\n",
        "             b = x\n",
        "       else:\n",
        "             a = x\n",
        "\n",
        "       x0 = x\n",
        "       x = (a+b)/2\n",
        "\n",
        "       # cálculo do erro vai depender do critério de parada escolhido\n",
        "       if(flag_parada == 0):\n",
        "              erro = abs(x-x0) # abs retorna o valor absoluto( em módulo)\n",
        "       elif(flag_parada == 1):\n",
        "              erro = abs(x-x0)/abs(x)\n",
        "       else:\n",
        "              erro = abs(func(x))\n",
        "\n",
        "    return x, k\n",
        "\n",
        "f = lambda x: x - m.tan(x)\n",
        "a = -1; b = 1.2; tol = 1e-7\n",
        "x0 = (a+b)/2\n",
        "\n",
        "print('Bissecção - Usando o critério de parada do erro absoluto:')\n",
        "flag_parada = 0\n",
        "(x_b2,kb2) = bissecao(f,a,b,x0,tol,flag_parada)\n",
        "print('O zero da função é %.6f, foram usadas %d iterações\\n' %(x_b2,kb2))"
      ],
      "metadata": {
        "colab": {
          "base_uri": "https://localhost:8080/"
        },
        "id": "Kdk43FoN-Hwn",
        "outputId": "ad9d2dec-44e7-4490-ed8b-158067d8b050"
      },
      "execution_count": null,
      "outputs": [
        {
          "output_type": "stream",
          "name": "stdout",
          "text": [
            "Bissecção - Usando o critério de parada do erro absoluto:\n",
            "O zero da função é 0.000000, foram usadas 24 iterações\n",
            "\n"
          ]
        }
      ]
    },
    {
      "cell_type": "code",
      "source": [
        "import numpy as np\n",
        "from scipy import linalg as lin\n",
        "import scipy as sci\n",
        "import math as m\n",
        "import matplotlib.pyplot as plt\n",
        "from sympy import sec\n",
        "\n",
        "def newton(func,dfunc,x0,tol,flag_parada):\n",
        "    x = x0; erro = np.inf\n",
        "    k = 0; kmax = 1000\n",
        "\n",
        "    while(erro > tol and k < kmax):\n",
        "       k = k + 1\n",
        "       x0 = x\n",
        "       dx = func(x)/dfunc(x)\n",
        "       x = x - dx\n",
        "\n",
        "       # cálculo do erro vai depender do critério de parada escolhido\n",
        "       if(flag_parada == 0):\n",
        "           erro = abs(x-x0)\n",
        "       elif(flag_parada == 1):\n",
        "           erro = abs(x-x0)/abs(x)\n",
        "       else:\n",
        "           erro = abs(func(x))\n",
        "\n",
        "    return x, k\n",
        "\n",
        "f = lambda x: x - m.tan(x)\n",
        "df = lambda x: 1 - sec(x)**2\n",
        "x0 = 0.1; tol = 1e-7\n",
        "\n",
        "print('Newton - Usando o critério de parada do erro absoluto:')\n",
        "flag_parada = 0\n",
        "(x_n2,kn2) = newton(f,df,x0,tol,flag_parada)\n",
        "print('O zero da função é %.6f, foram usadas %d iterações\\n' %(x_n2,kn2))"
      ],
      "metadata": {
        "colab": {
          "base_uri": "https://localhost:8080/"
        },
        "id": "BSDUBSnR_DfV",
        "outputId": "d03460c5-1e42-4132-ab1c-779d05bf97b8"
      },
      "execution_count": null,
      "outputs": [
        {
          "output_type": "stream",
          "name": "stdout",
          "text": [
            "Newton - Usando o critério de parada do erro absoluto:\n",
            "O zero da função é 0.000000, foram usadas 33 iterações\n",
            "\n"
          ]
        }
      ]
    },
    {
      "cell_type": "code",
      "source": [
        "import numpy as np\n",
        "from scipy import linalg as lin\n",
        "import scipy as sci\n",
        "import math as m\n",
        "import matplotlib.pyplot as plt\n",
        "\n",
        "def secante(func,x0,x1,tol,flag_parada):\n",
        "    erro =  np.inf\n",
        "    k = 0; kmax = 1000\n",
        "    x = x1\n",
        "\n",
        "    while(erro > tol and k < kmax):\n",
        "        k = k + 1\n",
        "        f0 = func(x0)\n",
        "        f1 = func(x)\n",
        "        ds = f1*(x-x0)/(f1-f0)\n",
        "        x0 = x\n",
        "        x = x - ds\n",
        "\n",
        "        # cálculo do erro vai depender do critério de parada escolhido\\n\",\n",
        "        if(flag_parada == 0):\n",
        "           erro = abs(x-x0)\n",
        "        elif(flag_parada == 1):\n",
        "           erro = abs(x-x0)/abs(x)\n",
        "        else:\n",
        "           erro = abs(func(x))\n",
        "\n",
        "    return x, k\n",
        "\n",
        "f = lambda x: x - m.tan(x)\n",
        "x0 = 0.1; tol = 1e-7\n",
        "x1 = -0.45\n",
        "\n",
        "print('Secante - Usando o critério de parada do erro absoluto:')\n",
        "flag_parada = 0\n",
        "(x_s2,ks2) = secante(f,x0,x1,tol,flag_parada)\n",
        "print('O zero da função é %.6f, foram usadas %d iterações\\n' %(x_s2,ks2))"
      ],
      "metadata": {
        "colab": {
          "base_uri": "https://localhost:8080/"
        },
        "id": "_7e44fPG-zbM",
        "outputId": "9ca440f1-7ae1-4433-c90b-32130a72380c"
      },
      "execution_count": null,
      "outputs": [
        {
          "output_type": "stream",
          "name": "stdout",
          "text": [
            "Secante - Usando o critério de parada do erro absoluto:\n",
            "O zero da função é 0.000000, foram usadas 47 iterações\n",
            "\n"
          ]
        }
      ]
    },
    {
      "cell_type": "code",
      "source": [
        "flag_parada = 0\n",
        "\n",
        "# Para a função polinomial\n",
        "l = [kb, kn, ks]\n",
        "me = ['Bisseção', 'Newton', 'Secante']\n",
        "\n",
        "# Para a função trigonométrica\n",
        "l2 = [kb2, kn2, ks2]\n",
        "fig, ax = plt.subplots()\n",
        "\n",
        "ax.set_title('comparação da convergência entre os métodos')\n",
        "ax.plot(me, l, l2)\n",
        "\n",
        "ax.set_ylabel('Número de iterações')\n",
        "\n",
        "plt.show()"
      ],
      "metadata": {
        "colab": {
          "base_uri": "https://localhost:8080/",
          "height": 453
        },
        "id": "upA-Edop24OV",
        "outputId": "d04b694c-18b0-4fa9-d414-40cbfd07fb9c"
      },
      "execution_count": null,
      "outputs": [
        {
          "output_type": "display_data",
          "data": {
            "text/plain": [
              "<Figure size 640x480 with 1 Axes>"
            ],
            "image/png": "[encoded data removed]"
          },
          "metadata": {}
        }
      ]
    }
  ]
}