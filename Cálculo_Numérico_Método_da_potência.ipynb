{
  "nbformat": 4,
  "nbformat_minor": 0,
  "metadata": {
    "colab": {
      "provenance": [],
      "authorship_tag": "ABX9TyOFWmLYHKe2FGU/lH6gP8nM",
      "include_colab_link": true
    },
    "kernelspec": {
      "name": "python3",
      "display_name": "Python 3"
    },
    "language_info": {
      "name": "python"
    }
  },
  "cells": [
    {
      "cell_type": "markdown",
      "metadata": {
        "id": "view-in-github",
        "colab_type": "text"
      },
      "source": [
        "<a href=\"https://colab.research.google.com/github/emanuel379/Calculo-Numerico/blob/main/C%C3%A1lculo_Num%C3%A9rico_M%C3%A9todo_da_pot%C3%AAncia.ipynb\" target=\"_parent\"><img src=\"https://colab.research.google.com/assets/colab-badge.svg\" alt=\"Open In Colab\"/></a>"
      ]
    },
    {
      "cell_type": "code",
      "execution_count": null,
      "metadata": {
        "colab": {
          "base_uri": "https://localhost:8080/"
        },
        "id": "nrW9_bJtsgHR",
        "outputId": "b903fa92-17ec-43c4-b687-5a82aa4e27ec"
      },
      "outputs": [
        {
          "output_type": "stream",
          "name": "stdout",
          "text": [
            "[[-4. 14.  0.]\n",
            " [-5. 13.  0.]\n",
            " [-1.  0.  2.]]\n",
            "Cálculo do maior autovalor em módulo de A\n",
            "Potência: 6.0043  usando 10 iterações\n",
            "Python: 6.0000\n",
            "\n",
            "Cálculo do menor autovalor em módulo de A\n",
            "Potência Inversa: 1.9982  usando 16 iterações\n",
            "Python: 2.0000\n",
            "\n"
          ]
        }
      ],
      "source": [
        "import numpy as np\n",
        "from scipy import linalg as lin\n",
        "import math as m\n",
        "import matplotlib.pyplot as plt\n",
        "\n",
        "# Potência\n",
        "def potencia(A,tol):\n",
        "     k = 0; kmax = 10000; erro = np.inf\n",
        "     n = np.shape(A)[0]; y0 = np.zeros(n); y0[0] = 1\n",
        "\n",
        "     while(erro > tol and k < kmax):\n",
        "          x = A.dot(y0) # Obtendo nosso x para as demais operações,\n",
        "          y = x/np.linalg.norm(x) # Calculando a razão entre x e sua norma para obter um y\n",
        "          erro = np.abs(np.abs(y0.dot(y))-1) # Erro de cálculo\n",
        "          y0 = y; k = k+1\n",
        "\n",
        "     lambda_ = y.dot(A.dot(y)) # Obtendo o maior autovalor\n",
        "     return lambda_, y, k\n",
        "\n",
        "#Potência Inversa\n",
        "def potencia_inv(A,tol):\n",
        "      k = 0; kmax = 10000; erro = np.inf\n",
        "      n = np.shape(A)[0]; y0 = np.zeros(n); y0[0] = 1\n",
        "\n",
        "      while(erro > tol and k < kmax):\n",
        "           x = np.linalg.inv(A).dot(y0) # Obtendo nosso x para as demais operações\n",
        "           y = x/np.linalg.norm(x) # Calculando a razão entre x e sua norma para obter um y\n",
        "           erro = np.abs(np.abs(y0.dot(y))-1) # Erro de cálculo\n",
        "           y0 = y; k = k+1 # Considerando y0 a primeira iteração de y e incrementando um na iteração a cada passo executado\n",
        "\n",
        "      lambda_ = y.dot(A.dot(y)) # Obtendo o menor autovalor\n",
        "      return lambda_, y, k\n",
        "\n",
        "# Exemplo\n",
        "A = np.array([[-4, 14, 0],\n",
        "              [ -5, 13, 0],\n",
        "              [ -1, 0,2]], dtype='double')\n",
        "\n",
        "print(A)\n",
        "(D_python,V_python) = np.linalg.eig(A) # usando uma função pronta para calcular todos os autovalores com a função eig\n",
        "print('Cálculo do maior autovalor em módulo de A')\n",
        "(lambda_,y,k) = potencia(A,0.000001)\n",
        "print('Potência: %.4f  usando %d iterações' %(lambda_,k))\n",
        "print('Python: %.4f\\n' %(np.max(abs(D_python))))\n",
        "\n",
        "print('Cálculo do menor autovalor em módulo de A')\n",
        "(lambda_inv,y,k) = potencia_inv(A,0.000001)\n",
        "print('Potência Inversa: %.4f  usando %d iterações' %(lambda_inv,k))\n",
        "print('Python: %.4f\\n' %(np.min(abs(D_python))))"
      ]
    },
    {
      "cell_type": "code",
      "source": [
        "#Potência Inversa\n",
        "# Código anterior porém com função pronta para calcular o x\n",
        "\n",
        "def potencia_inv(A,tol):\n",
        "      k = 0; kmax = 10000; erro = np.inf\n",
        "      n = np.shape(A)[0]; y0 = np.zeros(n); y0[0] = 1\n",
        "\n",
        "      while(erro > tol and k < kmax):\n",
        "           x = np.linalg.solve(A,y0)\n",
        "           y = x/np.linalg.norm(x) # Calculando a razão entre x e sua norma para obter um y\n",
        "           erro = np.abs(np.abs(y0.dot(y))-1) # Erro de cálculo\n",
        "           y0 = y; k = k+1 # Considerando y0 a primeira iteração de y e incrementando um na iteração a cada passo executado\n",
        "\n",
        "      lambda_ = y.dot(A.dot(y)) # Obtendo o menor autovalor\n",
        "      return lambda_, y, k\n",
        "\n",
        "# Exemplo\n",
        "A = np.array([[-4, 14, 0],\n",
        "              [ -5, 13, 0],\n",
        "              [ -1, 0,2]], dtype='double')\n",
        "\n",
        "print('Cálculo do menor autovalor em módulo de A')\n",
        "(lambda_inv,y,k) = potencia_inv(A,0.000001)\n",
        "print('Potência Inversa: %.4f  usando %d iterações' %(lambda_inv,k))\n",
        "print('Python: %.4f\\n' %(np.min(abs(D_python))))"
      ],
      "metadata": {
        "colab": {
          "base_uri": "https://localhost:8080/"
        },
        "id": "U0ksHnWq9fg4",
        "outputId": "454b68b7-997d-4833-bafa-2020c3d1b21f"
      },
      "execution_count": null,
      "outputs": [
        {
          "output_type": "stream",
          "name": "stdout",
          "text": [
            "Cálculo do menor autovalor em módulo de A\n",
            "Potência Inversa: 1.9982  usando 16 iterações\n",
            "Python: 2.0000\n",
            "\n"
          ]
        }
      ]
    }
  ]
}